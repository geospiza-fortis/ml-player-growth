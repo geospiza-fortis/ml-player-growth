{
 "cells": [
  {
   "cell_type": "code",
   "execution_count": 120,
   "id": "30ecc2c4-b51c-45c1-8079-bf50e64dfca9",
   "metadata": {},
   "outputs": [],
   "source": [
    "import requests\n",
    "from bs4 import BeautifulSoup"
   ]
  },
  {
   "cell_type": "code",
   "execution_count": 121,
   "id": "9af9bb96-2ec0-41c2-ae49-4c298d7b80ad",
   "metadata": {},
   "outputs": [],
   "source": [
    "url = \"https://maplelegends.com/ranking/all?page=1\"\n",
    "resp =  requests.get(url)"
   ]
  },
  {
   "cell_type": "code",
   "execution_count": 124,
   "id": "b6cb81c8-fa22-4573-a927-4aeb9b770c9c",
   "metadata": {},
   "outputs": [
    {
     "data": {
      "text/plain": [
       "<div class=\"table-responsive\" id=\"rankingTable\">\n",
       "<table class=\"table table-striped table-hover center-table table-bordered text-center\">\n",
       "<tr>\n",
       "<th>Rank</th>\n",
       "<th>Character</th>\n",
       "<th>Name</th>\n",
       "<th>Job</th>\n",
       "<th>Fame</th>\n",
       "<th>Level</th>\n",
       "</tr>\n",
       "<tr>\n",
       "<td style=\"vertical-align:middle;\">#<b>1</b></td>\n",
       "<td>\n",
       "<a class=\"spa\" href=\"/levels?name=Unlucky\" id=\"link-Unlucky\">\n",
       "<img alt=\"Unlucky\" class=\"avatar img-responsive\" id=\"avatar-Unlucky\" src=\"/api/getavatar?name=Unlucky\" style=\"margin: 0 auto;\"/>\n",
       "<script>\n",
       "                                /*unanimated_image_Unlucky = \"/api/getavatar?name=Unlucky\";\n",
       "                                animated_image_Unlucky = \"/api/getavatar?name=Unlucky&animated=1\";\n",
       "                                jQuery('#link-Unlucky').hover(\n",
       "                                        function() {\n",
       "                                                jQuery('#avatar-Unlucky')[0].src = animated_image_Unlucky;\n",
       "                                        },\n",
       "                                        function() {\n",
       "                                                jQuery('#avatar-Unlucky')[0].src = unanimated_image_Unlucky;\n",
       "                                        }\n",
       "                                );*/\n",
       "                        </script>\n",
       "</a>\n",
       "</td>\n",
       "<td style=\"vertical-align:middle;\"><b><a class=\"character_name donor_name\" href=\"/levels?name=Unlucky\">Unlucky</a>\n",
       "</b><br/> <a class=\"guild_name_link\" href=\"/ranking/guildmembers?search=Project\"><img src=\"/static/images/rank/emblem/00002020.2\n",
       ".png\"/>\n",
       "Project</a>\n",
       "</td>\n",
       "<td style=\"vertical-align:middle;\"><a class=\"class_link\" href=\"/ranking/cleric\"><img src=\"/static/images/rank/magician.png\"/><br/>Bishop</a></td>\n",
       "<td style=\"vertical-align:middle;\"><b>420</b></td>\n",
       "<td style=\"vertical-align:middle;\"><b>200</b><br/>\n",
       "<tr>\n",
       "<td style=\"vertical-align:middle;\">#<b>2</b></td>\n",
       "<td>\n",
       "<a class=\"spa\" href=\"/levels?name=Babo\" id=\"link-Babo\">\n",
       "<img alt=\"Babo\" class=\"avatar img-responsive\" id=\"avatar-Babo\" src=\"/api/getavatar?name=Babo\" style=\"margin: 0 auto;\"/>\n",
       "<script>\n",
       "                                /*unanimated_image_Babo = \"/api/getavatar?name=Babo\";\n",
       "                                animated_image_Babo = \"/api/getavatar?name=Babo&animated=1\";\n",
       "                                jQuery('#link-Babo').hover(\n",
       "                                        function() {\n",
       "                                                jQuery('#avatar-Babo')[0].src = animated_image_Babo;\n",
       "                                        },\n",
       "                                        function() {\n",
       "                                                jQuery('#avatar-Babo')[0].src = unanimated_image_Babo;\n",
       "                                        }\n",
       "                                );*/\n",
       "                        </script>\n",
       "</a>\n",
       "</td>\n",
       "<td style=\"vertical-align:middle;\"><b><a class=\"character_name donor_name\" href=\"/levels?name=Babo\">Babo</a>\n",
       "</b><br/> <a class=\"guild_name_link\" href=\"/ranking/guildmembers?search=Noir\"><img src=\"/static/images/rank/emblem/00002001.16\n",
       ".png\"/>\n",
       "Noir</a>\n",
       "</td>\n",
       "<td style=\"vertical-align:middle;\"><a class=\"class_link\" href=\"/ranking/assassin\"><img src=\"/static/images/rank/thief.png\"/><br/>Night Lord</a></td>\n",
       "<td style=\"vertical-align:middle;\"><b>2667</b></td>\n",
       "<td style=\"vertical-align:middle;\"><b>200</b><br/>\n",
       "<tr>\n",
       "<td style=\"vertical-align:middle;\">#<b>3</b></td>\n",
       "<td>\n",
       "<a class=\"spa\" href=\"/levels?name=Nude\" id=\"link-Nude\">\n",
       "<img alt=\"Nude\" class=\"avatar img-responsive\" id=\"avatar-Nude\" src=\"/api/getavatar?name=Nude\" style=\"margin: 0 auto;\"/>\n",
       "<script>\n",
       "                                /*unanimated_image_Nude = \"/api/getavatar?name=Nude\";\n",
       "                                animated_image_Nude = \"/api/getavatar?name=Nude&animated=1\";\n",
       "                                jQuery('#link-Nude').hover(\n",
       "                                        function() {\n",
       "                                                jQuery('#avatar-Nude')[0].src = animated_image_Nude;\n",
       "                                        },\n",
       "                                        function() {\n",
       "                                                jQuery('#avatar-Nude')[0].src = unanimated_image_Nude;\n",
       "                                        }\n",
       "                                );*/\n",
       "                        </script>\n",
       "</a>\n",
       "</td>\n",
       "<td style=\"vertical-align:middle;\"><b><a class=\"character_name donor_name\" href=\"/levels?name=Nude\">Nude</a>\n",
       "</b><br/> <a class=\"guild_name_link\" href=\"/ranking/guildmembers?search=Demure\"><img src=\"/static/images/rank/emblem/00002001.3\n",
       ".png\"/>\n",
       "Demure</a>\n",
       "</td>\n",
       "<td style=\"vertical-align:middle;\"><a class=\"class_link\" href=\"/ranking/assassin\"><img src=\"/static/images/rank/thief.png\"/><br/>Night Lord</a></td>\n",
       "<td style=\"vertical-align:middle;\"><b>784</b></td>\n",
       "<td style=\"vertical-align:middle;\"><b>200</b><br/>\n",
       "<tr>\n",
       "<td style=\"vertical-align:middle;\">#<b>4</b></td>\n",
       "<td>\n",
       "<a class=\"spa\" href=\"/levels?name=JayChou\" id=\"link-JayChou\">\n",
       "<img alt=\"JayChou\" class=\"avatar img-responsive\" id=\"avatar-JayChou\" src=\"/api/getavatar?name=JayChou\" style=\"margin: 0 auto;\"/>\n",
       "<script>\n",
       "                                /*unanimated_image_JayChou = \"/api/getavatar?name=JayChou\";\n",
       "                                animated_image_JayChou = \"/api/getavatar?name=JayChou&animated=1\";\n",
       "                                jQuery('#link-JayChou').hover(\n",
       "                                        function() {\n",
       "                                                jQuery('#avatar-JayChou')[0].src = animated_image_JayChou;\n",
       "                                        },\n",
       "                                        function() {\n",
       "                                                jQuery('#avatar-JayChou')[0].src = unanimated_image_JayChou;\n",
       "                                        }\n",
       "                                );*/\n",
       "                        </script>\n",
       "</a>\n",
       "</td>\n",
       "<td style=\"vertical-align:middle;\"><img src=\"/static/images/rank/bossPetCrown.png\"/><br/><b><a class=\"character_name donor_name\" href=\"/levels?name=JayChou\">JayChou</a>\n",
       "</b><br> <a class=\"guild_name_link\" href=\"/ranking/guildmembers?search=Noir\"><img src=\"/static/images/rank/emblem/00002001.16\n",
       ".png\"/>\n",
       "Noir</a>\n",
       "</br></td>\n",
       "<td style=\"vertical-align:middle;\"><a class=\"class_link\" href=\"/ranking/cleric\"><img src=\"/static/images/rank/magician.png\"/><br/>Bishop</a></td>\n",
       "<td style=\"vertical-align:middle;\"><b>1111</b></td>\n",
       "<td style=\"vertical-align:middle;\"><b>200</b><br/>\n",
       "<tr>\n",
       "<td style=\"vertical-align:middle;\">#<b>5</b></td>\n",
       "<td>\n",
       "<a class=\"spa\" href=\"/levels?name=Zeretius\" id=\"link-Zeretius\">\n",
       "<img alt=\"Zeretius\" class=\"avatar img-responsive\" id=\"avatar-Zeretius\" src=\"/api/getavatar?name=Zeretius\" style=\"margin: 0 auto;\"/>\n",
       "<script>\n",
       "                                /*unanimated_image_Zeretius = \"/api/getavatar?name=Zeretius\";\n",
       "                                animated_image_Zeretius = \"/api/getavatar?name=Zeretius&animated=1\";\n",
       "                                jQuery('#link-Zeretius').hover(\n",
       "                                        function() {\n",
       "                                                jQuery('#avatar-Zeretius')[0].src = animated_image_Zeretius;\n",
       "                                        },\n",
       "                                        function() {\n",
       "                                                jQuery('#avatar-Zeretius')[0].src = unanimated_image_Zeretius;\n",
       "                                        }\n",
       "                                );*/\n",
       "                        </script>\n",
       "</a>\n",
       "</td>\n",
       "<td style=\"vertical-align:middle;\"><b><a class=\"character_name donor_name\" href=\"/levels?name=Zeretius\">Zeretius</a>\n",
       "</b><br/> <a class=\"guild_name_link\" href=\"/ranking/guildmembers?search=Project\"><img src=\"/static/images/rank/emblem/00002020.2\n",
       ".png\"/>\n",
       "Project</a>\n",
       "</td>\n",
       "<td style=\"vertical-align:middle;\"><a class=\"class_link\" href=\"/ranking/hunter\"><img src=\"/static/images/rank/bowman.png\"/><br/>Bowmaster</a></td>\n",
       "<td style=\"vertical-align:middle;\"><b>263</b></td>\n",
       "<td style=\"vertical-align:middle;\"><b>200</b><br/>\n",
       "</td></tr>\n",
       "</td></tr></td></tr></td></tr></td></tr></table>\n",
       "<p>Results found: <b>192643</b></p>\n",
       "</div>"
      ]
     },
     "execution_count": 124,
     "metadata": {},
     "output_type": "execute_result"
    }
   ],
   "source": [
    "soup = BeautifulSoup(resp.text, \"html.parser\")\n",
    "ranking_table = soup.find(id=\"rankingTable\")\n",
    "ranking_table"
   ]
  },
  {
   "cell_type": "code",
   "execution_count": 125,
   "id": "b6ec661a-70dd-471c-816a-b4eff475a970",
   "metadata": {},
   "outputs": [
    {
     "data": {
      "text/plain": [
       "['rank', 'character', 'name', 'job', 'fame', 'level']"
      ]
     },
     "execution_count": 125,
     "metadata": {},
     "output_type": "execute_result"
    }
   ],
   "source": [
    "headers = [t.get_text().lower() for t in ranking_table.find_all(\"th\")]\n",
    "headers"
   ]
  },
  {
   "cell_type": "code",
   "execution_count": 126,
   "id": "0ead1d3c-238f-4df7-847c-352f47ee5a1b",
   "metadata": {},
   "outputs": [
    {
     "data": {
      "text/plain": [
       "6"
      ]
     },
     "execution_count": 126,
     "metadata": {},
     "output_type": "execute_result"
    }
   ],
   "source": [
    "rows = soup.find_all(\"tr\")\n",
    "len(rows)"
   ]
  },
  {
   "cell_type": "code",
   "execution_count": 141,
   "id": "0c94ab95-1721-4f05-9e57-9573b612a503",
   "metadata": {},
   "outputs": [
    {
     "data": {
      "text/plain": [
       "[<b>2</b>,\n",
       " None,\n",
       " <b><a class=\"character_name donor_name\" href=\"/levels?name=Babo\">Babo</a>\n",
       " </b>,\n",
       " None,\n",
       " <b>2667</b>,\n",
       " <b>200</b>]"
      ]
     },
     "execution_count": 141,
     "metadata": {},
     "output_type": "execute_result"
    }
   ],
   "source": [
    "td = rows[2].find_all(\"td\")[:6]\n",
    "[t.b for t in td]"
   ]
  },
  {
   "cell_type": "code",
   "execution_count": 151,
   "id": "a653365f-c28f-41aa-b559-2262d3457bae",
   "metadata": {},
   "outputs": [
    {
     "data": {
      "text/plain": [
       "'/levels?name=Babo'"
      ]
     },
     "execution_count": 151,
     "metadata": {},
     "output_type": "execute_result"
    }
   ],
   "source": [
    "td[1].a.get(\"href\")"
   ]
  },
  {
   "cell_type": "code",
   "execution_count": 156,
   "id": "430ea6e8-22fb-4ad6-90b4-25157e20b0fa",
   "metadata": {},
   "outputs": [
    {
     "data": {
      "text/plain": [
       "'2'"
      ]
     },
     "execution_count": 156,
     "metadata": {},
     "output_type": "execute_result"
    }
   ],
   "source": [
    "td[0].b.getText()"
   ]
  },
  {
   "cell_type": "code",
   "execution_count": 161,
   "id": "10dfb52e-47aa-43ee-a3ba-564e3356f320",
   "metadata": {},
   "outputs": [
    {
     "data": {
      "text/plain": [
       "'Babo'"
      ]
     },
     "execution_count": 161,
     "metadata": {},
     "output_type": "execute_result"
    }
   ],
   "source": [
    "td[2].b.getText().strip()"
   ]
  },
  {
   "cell_type": "code",
   "execution_count": 164,
   "id": "95790dba-8ffe-4000-9f80-6862368410ee",
   "metadata": {},
   "outputs": [
    {
     "data": {
      "text/plain": [
       "<a class=\"class_link\" href=\"/ranking/assassin\"><img src=\"/static/images/rank/thief.png\"/><br/>Night Lord</a>"
      ]
     },
     "execution_count": 164,
     "metadata": {},
     "output_type": "execute_result"
    }
   ],
   "source": [
    "td[3].a"
   ]
  },
  {
   "cell_type": "code",
   "execution_count": 165,
   "id": "4443d6be-b2a8-4b88-97b9-efc542ffa112",
   "metadata": {},
   "outputs": [
    {
     "data": {
      "text/plain": [
       "'/ranking/assassin'"
      ]
     },
     "execution_count": 165,
     "metadata": {},
     "output_type": "execute_result"
    }
   ],
   "source": [
    "td[3].a.get(\"href\")"
   ]
  },
  {
   "cell_type": "code",
   "execution_count": 183,
   "id": "584acdd9-4f98-444b-b3b0-7c3e6f07d819",
   "metadata": {},
   "outputs": [
    {
     "data": {
      "text/plain": [
       "'thief.png'"
      ]
     },
     "execution_count": 183,
     "metadata": {},
     "output_type": "execute_result"
    }
   ],
   "source": [
    "td[3].img.get(\"src\").split(\"/\")[-1]"
   ]
  },
  {
   "cell_type": "code",
   "execution_count": 170,
   "id": "ef85b63d-24cc-4fb8-a2df-9177ed5cd82c",
   "metadata": {},
   "outputs": [
    {
     "data": {
      "text/plain": [
       "'2021-05-08T20:31:02.035471'"
      ]
     },
     "execution_count": 170,
     "metadata": {},
     "output_type": "execute_result"
    }
   ],
   "source": [
    "import datetime\n",
    "datetime.datetime.utcnow().isoformat()"
   ]
  },
  {
   "cell_type": "code",
   "execution_count": 200,
   "id": "2a9ea525-0f21-46f7-9647-7b8e278eaa0c",
   "metadata": {},
   "outputs": [],
   "source": [
    "def parse_row(tr, category):\n",
    "    td = tr.find_all(\"td\")[:6]\n",
    "    return dict(\n",
    "        timestamp=datetime.datetime.utcnow().isoformat(),\n",
    "        category=category,\n",
    "        rank=int(td[0].b.getText()),\n",
    "        name=td[2].b.getText().strip(),\n",
    "        job=td[3].img.get(\"src\").split(\"/\")[-1].rstrip(\".png\"),\n",
    "        specialization=td[3].a.get(\"href\").split(\"/\")[-1],\n",
    "        mastery=td[3].a.getText().lower().strip(),\n",
    "    )\n",
    "\n",
    "def parse_page(resp):\n",
    "    category = resp.url.split(\"/\")[-1].split(\"?\")[0]\n",
    "    soup = BeautifulSoup(resp.text)\n",
    "    ranking_table = soup.find(id=\"rankingTable\")\n",
    "    rows = ranking_table.find_all(\"tr\")\n",
    "    data = [parse_row(r, category) for r in rows[1:]]\n",
    "    return data"
   ]
  },
  {
   "cell_type": "code",
   "execution_count": 180,
   "id": "f253c8e6-8515-4040-b8f7-3fadfc035996",
   "metadata": {},
   "outputs": [
    {
     "data": {
      "text/plain": [
       "'https://maplelegends.com/ranking/all?page=1'"
      ]
     },
     "execution_count": 180,
     "metadata": {},
     "output_type": "execute_result"
    }
   ],
   "source": [
    "resp.url"
   ]
  },
  {
   "cell_type": "code",
   "execution_count": 175,
   "id": "40e86d8a-578d-4419-90e3-00aa986f2c32",
   "metadata": {},
   "outputs": [],
   "source": [
    "url = \"https://maplelegends.com/ranking/all?page=1\"\n",
    "resp =  requests.get(url)"
   ]
  },
  {
   "cell_type": "code",
   "execution_count": 201,
   "id": "064c2a90-dda8-48ee-a0dc-c8272fad3595",
   "metadata": {},
   "outputs": [
    {
     "data": {
      "text/plain": [
       "[{'timestamp': '2021-05-08T20:38:33.519604',\n",
       "  'category': 'all',\n",
       "  'rank': 1,\n",
       "  'name': 'Unlucky',\n",
       "  'job': 'magicia',\n",
       "  'specialization': 'cleric',\n",
       "  'mastery': 'bishop'},\n",
       " {'timestamp': '2021-05-08T20:38:33.519604',\n",
       "  'category': 'all',\n",
       "  'rank': 2,\n",
       "  'name': 'Babo',\n",
       "  'job': 'thief',\n",
       "  'specialization': 'assassin',\n",
       "  'mastery': 'night lord'},\n",
       " {'timestamp': '2021-05-08T20:38:33.519604',\n",
       "  'category': 'all',\n",
       "  'rank': 3,\n",
       "  'name': 'Nude',\n",
       "  'job': 'thief',\n",
       "  'specialization': 'assassin',\n",
       "  'mastery': 'night lord'},\n",
       " {'timestamp': '2021-05-08T20:38:33.519604',\n",
       "  'category': 'all',\n",
       "  'rank': 4,\n",
       "  'name': 'JayChou',\n",
       "  'job': 'magicia',\n",
       "  'specialization': 'cleric',\n",
       "  'mastery': 'bishop'},\n",
       " {'timestamp': '2021-05-08T20:38:33.520604',\n",
       "  'category': 'all',\n",
       "  'rank': 5,\n",
       "  'name': 'Zeretius',\n",
       "  'job': 'bowma',\n",
       "  'specialization': 'hunter',\n",
       "  'mastery': 'bowmaster'}]"
      ]
     },
     "execution_count": 201,
     "metadata": {},
     "output_type": "execute_result"
    }
   ],
   "source": [
    "parse_page(resp)"
   ]
  }
 ],
 "metadata": {
  "kernelspec": {
   "display_name": "Python 3",
   "language": "python",
   "name": "python3"
  },
  "language_info": {
   "codemirror_mode": {
    "name": "ipython",
    "version": 3
   },
   "file_extension": ".py",
   "mimetype": "text/x-python",
   "name": "python",
   "nbconvert_exporter": "python",
   "pygments_lexer": "ipython3",
   "version": "3.8.9"
  }
 },
 "nbformat": 4,
 "nbformat_minor": 5
}
