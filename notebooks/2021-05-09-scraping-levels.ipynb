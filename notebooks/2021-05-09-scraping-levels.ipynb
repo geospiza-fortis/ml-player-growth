{
 "cells": [
  {
   "cell_type": "code",
   "execution_count": 1,
   "id": "30ecc2c4-b51c-45c1-8079-bf50e64dfca9",
   "metadata": {},
   "outputs": [],
   "source": [
    "import datetime\n",
    "import requests\n",
    "from bs4 import BeautifulSoup\n",
    "import numpy as np\n",
    "import pandas as pd\n",
    "import matplotlib.pyplot as plt\n",
    "from tqdm.auto import tqdm"
   ]
  },
  {
   "cell_type": "markdown",
   "id": "09efae41-fd57-43fa-9a40-3e4a41d885f3",
   "metadata": {},
   "source": [
    "# ranking"
   ]
  },
  {
   "cell_type": "code",
   "execution_count": 2,
   "id": "2a9ea525-0f21-46f7-9647-7b8e278eaa0c",
   "metadata": {},
   "outputs": [],
   "source": [
    "def parse_row(tr, category):\n",
    "    td = tr.find_all(\"td\")[:6]\n",
    "    return dict(\n",
    "        timestamp=datetime.datetime.utcnow().isoformat(),\n",
    "        category=category,\n",
    "        rank=int(td[0].b.getText()),\n",
    "        name=td[2].b.getText().strip(),\n",
    "        job=td[3].img.get(\"src\").split(\"/\")[-1].split(\".\")[0],\n",
    "        specialization=td[3].a.get(\"href\").split(\"/\")[-1],\n",
    "        mastery=td[3].a.getText().lower().strip(),\n",
    "        level=int(td[5].b.getText())\n",
    "    )\n",
    "\n",
    "def parse_page(resp):\n",
    "    category = resp.url.split(\"/\")[-1].split(\"?\")[0]\n",
    "    soup = BeautifulSoup(resp.text)\n",
    "    ranking_table = soup.find(id=\"rankingTable\")\n",
    "    rows = ranking_table.find_all(\"tr\")\n",
    "    data = [parse_row(r, category) for r in rows[1:]]\n",
    "    return data\n",
    "\n",
    "def parse_total(resp):\n",
    "    soup = BeautifulSoup(resp.text)\n",
    "    ranking_table = soup.find(id=\"rankingTable\")\n",
    "    return int(ranking_table.p.b.getText())\n",
    "\n",
    "def get_ranking(page):\n",
    "    url = f\"https://maplelegends.com/ranking/all?page={page}\"\n",
    "    return requests.get(url)"
   ]
  },
  {
   "cell_type": "code",
   "execution_count": 6,
   "id": "ed4cb4a6-092d-4004-84a5-71486493c69b",
   "metadata": {},
   "outputs": [
    {
     "data": {
      "text/plain": [
       "(192718, 38543)"
      ]
     },
     "execution_count": 6,
     "metadata": {},
     "output_type": "execute_result"
    }
   ],
   "source": [
    "first = get_ranking(1)\n",
    "total = parse_total(first)\n",
    "pages = total // 5\n",
    "total, pages"
   ]
  },
  {
   "cell_type": "code",
   "execution_count": 54,
   "id": "5d0f7831-2458-4ea1-9d5d-14d9cdb2b65e",
   "metadata": {},
   "outputs": [
    {
     "data": {
      "text/plain": [
       "200"
      ]
     },
     "execution_count": 54,
     "metadata": {},
     "output_type": "execute_result"
    }
   ],
   "source": [
    "indices = sorted(set(np.append(np.geomspace(2, pages, 100), np.linspace(1, pages, 110)).astype(int)))\n",
    "len(indices)"
   ]
  },
  {
   "cell_type": "code",
   "execution_count": 55,
   "id": "014e4c1b-ec7c-46e4-915e-a8ee2e0dc231",
   "metadata": {},
   "outputs": [
    {
     "data": {
      "text/plain": [
       "(array([78., 18., 15., 14., 14., 12., 13., 12., 12., 12.]),\n",
       " array([1.00000e+00, 3.85520e+03, 7.70940e+03, 1.15636e+04, 1.54178e+04,\n",
       "        1.92720e+04, 2.31262e+04, 2.69804e+04, 3.08346e+04, 3.46888e+04,\n",
       "        3.85430e+04]),\n",
       " <BarContainer object of 10 artists>)"
      ]
     },
     "execution_count": 55,
     "metadata": {},
     "output_type": "execute_result"
    },
    {
     "data": {
      "image/png": "[encoded data removed]",
      "text/plain": [
       "<Figure size 432x288 with 1 Axes>"
      ]
     },
     "metadata": {
      "needs_background": "light"
     },
     "output_type": "display_data"
    }
   ],
   "source": [
    "plt.hist(indices)"
   ]
  },
  {
   "cell_type": "code",
   "execution_count": 56,
   "id": "d2f649c8-d547-471d-92a8-8d98ccdd1b52",
   "metadata": {},
   "outputs": [
    {
     "data": {
      "application/vnd.jupyter.widget-view+json": {
       "model_id": "f1a271668506457a843d212da21ee00b",
       "version_major": 2,
       "version_minor": 0
      },
      "text/plain": [
       "  0%|          | 0/200 [00:00<?, ?it/s]"
      ]
     },
     "metadata": {},
     "output_type": "display_data"
    }
   ],
   "source": [
    "res = []\n",
    "for i in tqdm(indices):\n",
    "    resp = get_ranking(i)\n",
    "    res.append(parse_page(resp))"
   ]
  },
  {
   "cell_type": "code",
   "execution_count": 58,
   "id": "65bbf4e9-c554-41fc-9fd8-ac0e0cf7cd5b",
   "metadata": {},
   "outputs": [
    {
     "data": {
      "text/html": [
       "<div>\n",
       "<style scoped>\n",
       "    .dataframe tbody tr th:only-of-type {\n",
       "        vertical-align: middle;\n",
       "    }\n",
       "\n",
       "    .dataframe tbody tr th {\n",
       "        vertical-align: top;\n",
       "    }\n",
       "\n",
       "    .dataframe thead th {\n",
       "        text-align: right;\n",
       "    }\n",
       "</style>\n",
       "<table border=\"1\" class=\"dataframe\">\n",
       "  <thead>\n",
       "    <tr style=\"text-align: right;\">\n",
       "      <th></th>\n",
       "      <th>timestamp</th>\n",
       "      <th>category</th>\n",
       "      <th>rank</th>\n",
       "      <th>name</th>\n",
       "      <th>job</th>\n",
       "      <th>specialization</th>\n",
       "      <th>mastery</th>\n",
       "      <th>level</th>\n",
       "    </tr>\n",
       "  </thead>\n",
       "  <tbody>\n",
       "    <tr>\n",
       "      <th>0</th>\n",
       "      <td>2021-05-09T07:29:05.999614</td>\n",
       "      <td>all</td>\n",
       "      <td>1</td>\n",
       "      <td>Unlucky</td>\n",
       "      <td>magician</td>\n",
       "      <td>cleric</td>\n",
       "      <td>bishop</td>\n",
       "      <td>200</td>\n",
       "    </tr>\n",
       "    <tr>\n",
       "      <th>1</th>\n",
       "      <td>2021-05-09T07:29:05.999614</td>\n",
       "      <td>all</td>\n",
       "      <td>2</td>\n",
       "      <td>Babo</td>\n",
       "      <td>thief</td>\n",
       "      <td>assassin</td>\n",
       "      <td>night lord</td>\n",
       "      <td>200</td>\n",
       "    </tr>\n",
       "    <tr>\n",
       "      <th>2</th>\n",
       "      <td>2021-05-09T07:29:05.999614</td>\n",
       "      <td>all</td>\n",
       "      <td>3</td>\n",
       "      <td>Nude</td>\n",
       "      <td>thief</td>\n",
       "      <td>assassin</td>\n",
       "      <td>night lord</td>\n",
       "      <td>200</td>\n",
       "    </tr>\n",
       "    <tr>\n",
       "      <th>3</th>\n",
       "      <td>2021-05-09T07:29:05.999614</td>\n",
       "      <td>all</td>\n",
       "      <td>4</td>\n",
       "      <td>JayChou</td>\n",
       "      <td>magician</td>\n",
       "      <td>cleric</td>\n",
       "      <td>bishop</td>\n",
       "      <td>200</td>\n",
       "    </tr>\n",
       "    <tr>\n",
       "      <th>4</th>\n",
       "      <td>2021-05-09T07:29:05.999614</td>\n",
       "      <td>all</td>\n",
       "      <td>5</td>\n",
       "      <td>Zeretius</td>\n",
       "      <td>bowman</td>\n",
       "      <td>hunter</td>\n",
       "      <td>bowmaster</td>\n",
       "      <td>200</td>\n",
       "    </tr>\n",
       "    <tr>\n",
       "      <th>...</th>\n",
       "      <td>...</td>\n",
       "      <td>...</td>\n",
       "      <td>...</td>\n",
       "      <td>...</td>\n",
       "      <td>...</td>\n",
       "      <td>...</td>\n",
       "      <td>...</td>\n",
       "      <td>...</td>\n",
       "    </tr>\n",
       "    <tr>\n",
       "      <th>995</th>\n",
       "      <td>2021-05-09T07:42:07.050445</td>\n",
       "      <td>all</td>\n",
       "      <td>192711</td>\n",
       "      <td>Lawkes</td>\n",
       "      <td>beginner</td>\n",
       "      <td>all</td>\n",
       "      <td>beginner</td>\n",
       "      <td>2</td>\n",
       "    </tr>\n",
       "    <tr>\n",
       "      <th>996</th>\n",
       "      <td>2021-05-09T07:42:07.050445</td>\n",
       "      <td>all</td>\n",
       "      <td>192712</td>\n",
       "      <td>Troyy</td>\n",
       "      <td>beginner</td>\n",
       "      <td>all</td>\n",
       "      <td>beginner</td>\n",
       "      <td>2</td>\n",
       "    </tr>\n",
       "    <tr>\n",
       "      <th>997</th>\n",
       "      <td>2021-05-09T07:42:07.050445</td>\n",
       "      <td>all</td>\n",
       "      <td>192713</td>\n",
       "      <td>Liridas</td>\n",
       "      <td>beginner</td>\n",
       "      <td>all</td>\n",
       "      <td>beginner</td>\n",
       "      <td>2</td>\n",
       "    </tr>\n",
       "    <tr>\n",
       "      <th>998</th>\n",
       "      <td>2021-05-09T07:42:07.050445</td>\n",
       "      <td>all</td>\n",
       "      <td>192714</td>\n",
       "      <td>Footwear</td>\n",
       "      <td>beginner</td>\n",
       "      <td>all</td>\n",
       "      <td>beginner</td>\n",
       "      <td>2</td>\n",
       "    </tr>\n",
       "    <tr>\n",
       "      <th>999</th>\n",
       "      <td>2021-05-09T07:42:07.050445</td>\n",
       "      <td>all</td>\n",
       "      <td>192715</td>\n",
       "      <td>PennyXx</td>\n",
       "      <td>beginner</td>\n",
       "      <td>all</td>\n",
       "      <td>beginner</td>\n",
       "      <td>2</td>\n",
       "    </tr>\n",
       "  </tbody>\n",
       "</table>\n",
       "<p>1000 rows × 8 columns</p>\n",
       "</div>"
      ],
      "text/plain": [
       "                      timestamp category    rank      name       job  \\\n",
       "0    2021-05-09T07:29:05.999614      all       1   Unlucky  magician   \n",
       "1    2021-05-09T07:29:05.999614      all       2      Babo     thief   \n",
       "2    2021-05-09T07:29:05.999614      all       3      Nude     thief   \n",
       "3    2021-05-09T07:29:05.999614      all       4   JayChou  magician   \n",
       "4    2021-05-09T07:29:05.999614      all       5  Zeretius    bowman   \n",
       "..                          ...      ...     ...       ...       ...   \n",
       "995  2021-05-09T07:42:07.050445      all  192711    Lawkes  beginner   \n",
       "996  2021-05-09T07:42:07.050445      all  192712     Troyy  beginner   \n",
       "997  2021-05-09T07:42:07.050445      all  192713   Liridas  beginner   \n",
       "998  2021-05-09T07:42:07.050445      all  192714  Footwear  beginner   \n",
       "999  2021-05-09T07:42:07.050445      all  192715   PennyXx  beginner   \n",
       "\n",
       "    specialization     mastery  level  \n",
       "0           cleric      bishop    200  \n",
       "1         assassin  night lord    200  \n",
       "2         assassin  night lord    200  \n",
       "3           cleric      bishop    200  \n",
       "4           hunter   bowmaster    200  \n",
       "..             ...         ...    ...  \n",
       "995            all    beginner      2  \n",
       "996            all    beginner      2  \n",
       "997            all    beginner      2  \n",
       "998            all    beginner      2  \n",
       "999            all    beginner      2  \n",
       "\n",
       "[1000 rows x 8 columns]"
      ]
     },
     "execution_count": 58,
     "metadata": {},
     "output_type": "execute_result"
    }
   ],
   "source": [
    "df = pd.DataFrame(sum(res, []))\n",
    "df"
   ]
  },
  {
   "cell_type": "code",
   "execution_count": 60,
   "id": "f6d81067-a2fa-404a-9253-cc1655f556f0",
   "metadata": {},
   "outputs": [
    {
     "data": {
      "text/plain": [
       "Text(0.5, 1.0, 'ranking vs level')"
      ]
     },
     "execution_count": 60,
     "metadata": {},
     "output_type": "execute_result"
    },
    {
     "data": {
      "image/png": "[encoded data removed]",
      "text/plain": [
       "<Figure size 432x288 with 1 Axes>"
      ]
     },
     "metadata": {
      "needs_background": "light"
     },
     "output_type": "display_data"
    }
   ],
   "source": [
    "plt.scatter(df[\"level\"], df[\"rank\"])\n",
    "plt.title(\"ranking vs level\")"
   ]
  },
  {
   "cell_type": "code",
   "execution_count": 140,
   "id": "fcce63fd-ad32-4d13-aeb1-386a2951ed29",
   "metadata": {},
   "outputs": [],
   "source": [
    "df.to_json(\"../data/sample_ranking_20210509.json\", orient=\"records\")"
   ]
  },
  {
   "cell_type": "code",
   "execution_count": 74,
   "id": "fc8d17b2-b55f-4ef4-9968-9f1e1805933d",
   "metadata": {},
   "outputs": [
    {
     "data": {
      "text/plain": [
       "mastery\n",
       "sniper                         80\n",
       "outlaw                        100\n",
       "mage (fire/poison)            118\n",
       "crossbowman                   157\n",
       "page                          211\n",
       "crusader                      297\n",
       "marauder                      334\n",
       "gunslinger                    354\n",
       "pirate                        408\n",
       "ranger                        434\n",
       "bowman                        442\n",
       "hunter                        486\n",
       "bandit                        500\n",
       "wizard (fire/poison)          591\n",
       "mage (ice/lightning)          596\n",
       "brawler                       661\n",
       "dragon knight                 687\n",
       "fighter                       740\n",
       "chief bandit                  802\n",
       "wizard (ice/lightning)        847\n",
       "thief                         868\n",
       "hermit                        890\n",
       "corsair                       969\n",
       "spearman                     1043\n",
       "beginner                     1235\n",
       "cleric                       1324\n",
       "magician                     1329\n",
       "assassin                     1449\n",
       "warrior                      1542\n",
       "priest                       1700\n",
       "paladin                      1826\n",
       "buccaneer                    1845\n",
       "marksman                     2189\n",
       "shadower                     3576\n",
       "dark knight                  3782\n",
       "bowmaster                    3966\n",
       "archmage (fire/poison)       4982\n",
       "hero                         5409\n",
       "night lord                   7737\n",
       "archmage (ice/lightning)     7798\n",
       "bishop                      17739\n",
       "Name: level, dtype: int64"
      ]
     },
     "execution_count": 74,
     "metadata": {},
     "output_type": "execute_result"
    }
   ],
   "source": [
    "df.groupby(\"mastery\").sum().level.sort_values()"
   ]
  },
  {
   "cell_type": "markdown",
   "id": "2788e240-ac9a-4cef-a249-cfa75b614582",
   "metadata": {},
   "source": [
    "# leveling history"
   ]
  },
  {
   "cell_type": "code",
   "execution_count": 123,
   "id": "1f62151c-8076-4d6b-b662-2ebf3222759b",
   "metadata": {},
   "outputs": [],
   "source": [
    "def parse_levels_row(tr, name):\n",
    "    td = tr.find_all(\"td\")\n",
    "    return dict(\n",
    "        name=name,\n",
    "        level=int(td[0].getText()),\n",
    "        timestamp=td[1].getText().replace(\" \", \"T\")\n",
    "    )\n",
    "\n",
    "def parse_levels_page(resp):\n",
    "    soup = BeautifulSoup(resp.text)\n",
    "    name = resp.url.split(\"=\")[-1]\n",
    "    rows = soup.find_all(\"tr\")[1:]\n",
    "    return [parse_levels_row(tr, name) for tr in rows]\n",
    "\n",
    "def get_levels(name):\n",
    "    url = f\"https://maplelegends.com/levels?name={name}\"\n",
    "    return requests.get(url)"
   ]
  },
  {
   "cell_type": "code",
   "execution_count": 105,
   "id": "e13e0c10-19c2-4959-b987-f84120740062",
   "metadata": {},
   "outputs": [],
   "source": [
    "resp = get_levels(\"geospiza\")"
   ]
  },
  {
   "cell_type": "code",
   "execution_count": 124,
   "id": "ac4e34a6-b72f-4ed0-b7aa-4cc405846926",
   "metadata": {},
   "outputs": [
    {
     "data": {
      "text/plain": [
       "[{'name': 'geospiza', 'level': 142, 'timestamp': '2021-04-28T02:57:30'},\n",
       " {'name': 'geospiza', 'level': 141, 'timestamp': '2021-03-21T03:22:02'},\n",
       " {'name': 'geospiza', 'level': 140, 'timestamp': '2021-03-05T02:43:26'}]"
      ]
     },
     "execution_count": 124,
     "metadata": {},
     "output_type": "execute_result"
    }
   ],
   "source": [
    "parse_levels_page(resp)[:3]"
   ]
  },
  {
   "cell_type": "code",
   "execution_count": 127,
   "id": "1988480c-af6e-4060-8146-9d0a64fbdb39",
   "metadata": {},
   "outputs": [
    {
     "data": {
      "application/vnd.jupyter.widget-view+json": {
       "model_id": "0ceb26192f2043e380903eafde92498f",
       "version_major": 2,
       "version_minor": 0
      },
      "text/plain": [
       "  0%|          | 0/1000 [00:00<?, ?it/s]"
      ]
     },
     "metadata": {},
     "output_type": "display_data"
    }
   ],
   "source": [
    "res_levels = []\n",
    "for name in tqdm(df.name):\n",
    "    resp = get_levels(name)\n",
    "    res_levels.append(parse_levels_page(resp))"
   ]
  },
  {
   "cell_type": "code",
   "execution_count": 128,
   "id": "91836a67-2ad7-4570-ae89-465f36f4d01c",
   "metadata": {},
   "outputs": [
    {
     "data": {
      "text/html": [
       "<div>\n",
       "<style scoped>\n",
       "    .dataframe tbody tr th:only-of-type {\n",
       "        vertical-align: middle;\n",
       "    }\n",
       "\n",
       "    .dataframe tbody tr th {\n",
       "        vertical-align: top;\n",
       "    }\n",
       "\n",
       "    .dataframe thead th {\n",
       "        text-align: right;\n",
       "    }\n",
       "</style>\n",
       "<table border=\"1\" class=\"dataframe\">\n",
       "  <thead>\n",
       "    <tr style=\"text-align: right;\">\n",
       "      <th></th>\n",
       "      <th>name</th>\n",
       "      <th>level</th>\n",
       "      <th>timestamp</th>\n",
       "    </tr>\n",
       "  </thead>\n",
       "  <tbody>\n",
       "    <tr>\n",
       "      <th>0</th>\n",
       "      <td>Unlucky</td>\n",
       "      <td>200</td>\n",
       "      <td>2016-08-07T16:27:09</td>\n",
       "    </tr>\n",
       "    <tr>\n",
       "      <th>1</th>\n",
       "      <td>Unlucky</td>\n",
       "      <td>199</td>\n",
       "      <td>2016-07-24T12:45:27</td>\n",
       "    </tr>\n",
       "    <tr>\n",
       "      <th>2</th>\n",
       "      <td>Unlucky</td>\n",
       "      <td>198</td>\n",
       "      <td>2016-07-14T07:50:14</td>\n",
       "    </tr>\n",
       "    <tr>\n",
       "      <th>3</th>\n",
       "      <td>Unlucky</td>\n",
       "      <td>197</td>\n",
       "      <td>2016-06-24T00:51:22</td>\n",
       "    </tr>\n",
       "    <tr>\n",
       "      <th>4</th>\n",
       "      <td>Unlucky</td>\n",
       "      <td>196</td>\n",
       "      <td>2016-06-09T07:10:15</td>\n",
       "    </tr>\n",
       "    <tr>\n",
       "      <th>...</th>\n",
       "      <td>...</td>\n",
       "      <td>...</td>\n",
       "      <td>...</td>\n",
       "    </tr>\n",
       "    <tr>\n",
       "      <th>78378</th>\n",
       "      <td>Lawkes</td>\n",
       "      <td>2</td>\n",
       "      <td>2021-04-15T18:44:22</td>\n",
       "    </tr>\n",
       "    <tr>\n",
       "      <th>78379</th>\n",
       "      <td>Troyy</td>\n",
       "      <td>2</td>\n",
       "      <td>2021-04-24T07:52:33</td>\n",
       "    </tr>\n",
       "    <tr>\n",
       "      <th>78380</th>\n",
       "      <td>Liridas</td>\n",
       "      <td>2</td>\n",
       "      <td>2021-04-26T21:29:08</td>\n",
       "    </tr>\n",
       "    <tr>\n",
       "      <th>78381</th>\n",
       "      <td>Footwear</td>\n",
       "      <td>2</td>\n",
       "      <td>2021-04-28T08:38:13</td>\n",
       "    </tr>\n",
       "    <tr>\n",
       "      <th>78382</th>\n",
       "      <td>PennyXx</td>\n",
       "      <td>2</td>\n",
       "      <td>2021-05-07T09:55:19</td>\n",
       "    </tr>\n",
       "  </tbody>\n",
       "</table>\n",
       "<p>78383 rows × 3 columns</p>\n",
       "</div>"
      ],
      "text/plain": [
       "           name  level            timestamp\n",
       "0       Unlucky    200  2016-08-07T16:27:09\n",
       "1       Unlucky    199  2016-07-24T12:45:27\n",
       "2       Unlucky    198  2016-07-14T07:50:14\n",
       "3       Unlucky    197  2016-06-24T00:51:22\n",
       "4       Unlucky    196  2016-06-09T07:10:15\n",
       "...         ...    ...                  ...\n",
       "78378    Lawkes      2  2021-04-15T18:44:22\n",
       "78379     Troyy      2  2021-04-24T07:52:33\n",
       "78380   Liridas      2  2021-04-26T21:29:08\n",
       "78381  Footwear      2  2021-04-28T08:38:13\n",
       "78382   PennyXx      2  2021-05-07T09:55:19\n",
       "\n",
       "[78383 rows x 3 columns]"
      ]
     },
     "execution_count": 128,
     "metadata": {},
     "output_type": "execute_result"
    }
   ],
   "source": [
    "levels_df = pd.DataFrame(sum(res_levels, []))"
   ]
  },
  {
   "cell_type": "code",
   "execution_count": 139,
   "id": "d98045f1-be29-4355-934e-bfeecc78ace7",
   "metadata": {},
   "outputs": [],
   "source": [
    "df.to_json(\"../data/sample_levels_20210509.json\", orient=\"records\")"
   ]
  },
  {
   "cell_type": "markdown",
   "id": "d7ae10d2-b224-4642-8e03-b266f0e98d3b",
   "metadata": {},
   "source": [
    "# sqlite dump"
   ]
  },
  {
   "cell_type": "code",
   "execution_count": 147,
   "id": "644f05f2-9757-4cd8-96fa-6cb3c586a5b4",
   "metadata": {},
   "outputs": [],
   "source": [
    "import sqlite3\n",
    "\n",
    "conn = sqlite3.connect(\"../data/sample_20210509.sqlite\")\n",
    "df.to_sql(\"ranking\", conn, if_exists=\"replace\")\n",
    "levels_df.to_sql(\"levels\", conn, if_exists=\"replace\")\n",
    "conn.close()"
   ]
  },
  {
   "cell_type": "code",
   "execution_count": 168,
   "id": "129c87f1-8929-4723-bd39-0b585bf0b3f3",
   "metadata": {},
   "outputs": [
    {
     "data": {
      "text/plain": [
       "Text(0.5, 1.0, 'month vs new players')"
      ]
     },
     "execution_count": 168,
     "metadata": {},
     "output_type": "execute_result"
    },
    {
     "data": {
      "image/png": "[encoded data removed]",
      "text/plain": [
       "<Figure size 432x288 with 1 Axes>"
      ]
     },
     "metadata": {
      "needs_background": "light"
     },
     "output_type": "display_data"
    }
   ],
   "source": [
    "conn = sqlite3.connect(\"../data/sample_20210509.sqlite\")\n",
    "res = pd.read_sql_query(\"\"\"\n",
    "SELECT \n",
    "    date(timestamp, \"start of month\") as month,\n",
    "    count(distinct name) as n\n",
    "FROM levels\n",
    "WHERE level = 2\n",
    "group by 1\n",
    "\"\"\", conn)\n",
    "res[\"month\"] = pd.to_datetime(res.month)\n",
    "plt.plot(res.month, res.n)\n",
    "plt.title(\"month vs new players\")"
   ]
  }
 ],
 "metadata": {
  "kernelspec": {
   "display_name": "Python 3",
   "language": "python",
   "name": "python3"
  },
  "language_info": {
   "codemirror_mode": {
    "name": "ipython",
    "version": 3
   },
   "file_extension": ".py",
   "mimetype": "text/x-python",
   "name": "python",
   "nbconvert_exporter": "python",
   "pygments_lexer": "ipython3",
   "version": "3.8.9"
  }
 },
 "nbformat": 4,
 "nbformat_minor": 5
}
