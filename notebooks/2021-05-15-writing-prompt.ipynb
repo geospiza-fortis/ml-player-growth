{
 "cells": [
  {
   "cell_type": "code",
   "execution_count": 2,
   "id": "4467a88b-ff7a-471d-9b0c-10ec90b32209",
   "metadata": {},
   "outputs": [],
   "source": [
    "SESSION_FILE = \"history-2021-05-22.md\""
   ]
  },
  {
   "cell_type": "code",
   "execution_count": 3,
   "id": "3189817d-422a-4044-b651-61bf0b54e25e",
   "metadata": {},
   "outputs": [
    {
     "name": "stderr",
     "output_type": "stream",
     "text": [
      "c:\\users\\acmiy\\onedrive\\documents\\code\\gpt-fanfiction\\venv\\lib\\site-packages\\torchaudio\\extension\\extension.py:13: UserWarning: torchaudio C++ extension is not available.\n",
      "  warnings.warn('torchaudio C++ extension is not available.')\n",
      "c:\\users\\acmiy\\onedrive\\documents\\code\\gpt-fanfiction\\venv\\lib\\site-packages\\torchaudio\\backend\\utils.py:89: UserWarning: No audio backend is available.\n",
      "  warnings.warn('No audio backend is available.')\n"
     ]
    }
   ],
   "source": [
    "from transformers import pipeline"
   ]
  },
  {
   "cell_type": "code",
   "execution_count": 4,
   "id": "f4a257dd-279e-4aec-92a5-bb9d22eb37e9",
   "metadata": {},
   "outputs": [],
   "source": [
    "generator = pipeline('text-generation', model='EleutherAI/gpt-neo-1.3B', device=0)"
   ]
  },
  {
   "cell_type": "code",
   "execution_count": 5,
   "id": "98307f3d-fd43-4b6c-b150-d0e42df95b64",
   "metadata": {},
   "outputs": [],
   "source": [
    "from IPython.core import magic_arguments\n",
    "from IPython.core.magic import register_cell_magic\n",
    "import textwrap\n",
    "from datetime import datetime\n",
    "\n",
    "def genprint(prompt, session_file, **kwargs):\n",
    "    res = generator(prompt, do_sample=True, **kwargs)\n",
    "    text = res[0][\"generated_text\"]\n",
    "    with open(session_file, \"a\") as fp:\n",
    "        fp.write(textwrap.dedent(f\"\"\"\n",
    "## {datetime.utcnow().isoformat()}\n",
    "\n",
    "### prompt\n",
    "\n",
    "{prompt}\n",
    "\n",
    "### response\n",
    "\n",
    "{text}\n",
    "\n",
    "\"\"\"))\n",
    "    print(text)\n",
    "\n",
    "@magic_arguments.magic_arguments()\n",
    "@magic_arguments.argument(\"--max-length\", type=int, default=300, help=\"Max length of text to be generated\")\n",
    "@magic_arguments.argument(\"--min-length\", type=int, default=100)\n",
    "@magic_arguments.argument(\"--session-file\", type=str, default=SESSION_FILE)\n",
    "@register_cell_magic\n",
    "def gpt(line, cell):\n",
    "    args = magic_arguments.parse_argstring(gpt, line)\n",
    "    genprint(cell.strip(), **vars(args))"
   ]
  },
  {
   "cell_type": "code",
   "execution_count": 17,
   "id": "0e998846-4e4e-4b77-be15-f860bb3a32c7",
   "metadata": {},
   "outputs": [
    {
     "name": "stderr",
     "output_type": "stream",
     "text": [
      "Setting `pad_token_id` to `eos_token_id`:50256 for open-end generation.\n"
     ]
    },
    {
     "name": "stdout",
     "output_type": "stream",
     "text": [
      "I will kick your ass so hard your vertebrae pop out of your mouth one by one like a pez dispenser.’”\n",
      "\n",
      "He didn’t stop there. “Also, let’s make sure we can’t get him before he gets out of jail, because I don’t want to get stuck with your ass.”\n",
      "\n",
      "Tiger continued. “It will take you about an hour to get all the way through that prison cell of yours, but let me assure you, I’m not going to let you get the worst of it.”\n",
      "\n",
      "“There’s also a possibility you might get shot.”\n",
      "\n",
      "\n"
     ]
    }
   ],
   "source": [
    "%%gpt --max-length 150\n",
    "I will kick your ass so hard your vertebrae pop out of your mouth one by one like a pez dispenser."
   ]
  },
  {
   "cell_type": "code",
   "execution_count": 36,
   "id": "8ba57661-f4bf-4aef-b0f0-2f01309390fc",
   "metadata": {},
   "outputs": [
    {
     "name": "stderr",
     "output_type": "stream",
     "text": [
      "Setting `pad_token_id` to `eos_token_id`:50256 for open-end generation.\n"
     ]
    },
    {
     "name": "stdout",
     "output_type": "stream",
     "text": [
      "Jenny had feelings for both Michael and John. She will need to decide who go with to prom before it happens next month.\n",
      "\n",
      "I know, I know, Jenny and Michael are like a little brother and sister. You know, kind of.\n",
      "\n",
      "Michael is getting married tomorrow. I guess I was really hoping it would be Jenny, but maybe it won't be. There will be a little ceremony, but that's a whole different conversation. There are a lot more details to cover than Jenny is ready to hear.\n",
      "\n",
      "John had his wedding and I'm taking it really easy. Well, at least that's what I tell myself. It is such a beautiful day, and my stomach is screaming that I'm not doing too bad.\n",
      "\n",
      "I think I'm done. I can't wait until next week. I am so pumped for prom to come so I can hang out with Jenny again, and I cannot wait to tell all my friends. Plus, I have an excuse. When they are all over school, my father will be there holding some papers, and there you have it. For all the details.\n",
      "\n",
      "(Jenny has told me about the night before, but I don't know if she told anyone before.)\n",
      "\n",
      "***\n",
      "\n",
      "Hi, it is all I can do not to look at this post again. I cannot believe that Jenny has left me forever. I'm so sorry. Not that I don't love you. But, I don't want to be your friend anymore. Well, I guess, I do have class with Michael so we can hang out. I just feel so lost. I don't know what to do. I've never been left. I know that I can never ever be. How would you feel? Why did you leave? What happened?\n",
      "\n",
      "Jenny will never come back. I am afraid that she will just stop talking to me. If she does make it back at all, I will be so sad. I feel so helpless. And if I have to say goodbye? I can't bear the thought. If she doesn't see me again, I will be truly lost.\n",
      "\n",
      "I'm starting to panic. My stomach is actually hurting. Jenny knows that it is my stomach. I can only imagine how she will feel if she knows. I have to leave. I'm sorry, I don't even know what I was thinking when I was asking you to go with me.\n",
      "\n",
      "It is all I can do not to go through this just yet. I don't know what to do. I can't stay like this. I need to get out of this state. And this is so awful. Why did she leave, Jenny? Why did she leave? Why did she leave and why? Why did she leave and why? Why? Why? Why? Why? Why?\n",
      "\n",
      "I don't know. I just know that right now I don't know what to do. And I'm so scared to ask.\n",
      "\n",
      "If Jenny comes back I'll be so sad. If she does not come back I'll be so lonely. If she is still there and I'm still sad, I will be so mad.\n",
      "\n",
      "I feel so awful. But I can't do this alone. It's all I can do not to fall apart. I am so lost. And I'm really starting to believe that I am really lost.\n",
      "\n",
      "If anyone else has any love, let me know. I want to go home. I want to see my family. I want to be with all my friends. I want to just be with my friends. I would love to hold you. I would love to hug you, hold you. I would love to hold you. But I don't know. It is all I can do not to fall apart.\n",
      "\n",
      "I need to get out of this state. I need to get out of this situation\n"
     ]
    }
   ],
   "source": [
    "%%gpt --max-length 300\n",
    "\n",
    "Jenny had feelings for both Michael and John. She will need to decide who go with to prom before it happens next month."
   ]
  },
  {
   "cell_type": "code",
   "execution_count": 57,
   "id": "f22c79bb-434c-4fe2-ab60-a2314ea73920",
   "metadata": {},
   "outputs": [
    {
     "name": "stderr",
     "output_type": "stream",
     "text": [
      "Setting `pad_token_id` to `eos_token_id`:50256 for open-end generation.\n"
     ]
    },
    {
     "name": "stdout",
     "output_type": "stream",
     "text": [
      "AAAAAAAAAAAAAAAAAAAAAAAAAAAAAAAAAAAAAAAAAAAAAAAAAAAAAAAAAAAAAAAAAAA KIMMY NOOOOOOOOOOOOOOOOOOOOOOOOOOOOOOOOOOOOOOOOOOOOOOOOOOOOOOOOOOOOOOOOOOOOOOOO OOOOOOOOOOOOOOOOOOOOOOOOOOOOOOOOOOOOOOOOOOOOOOOOOOOOOOOOOOOOOOOOOOOOOOOOOOOOOOOO\n",
      "kimmyoimmyoimmyoimmyoimmyoimmyoimmyoimmyoimmyoimmyoimmyoimmyoimmyoimmyoim\n"
     ]
    }
   ],
   "source": [
    "%%gpt --max-length 80\n",
    "\n",
    "AAAAAAAAAAAAAAAAAAAAAAAAAAAAAAAAAAAAAAAAAAAAAAAAAAAAAAAAAAAAAAAAAAA KIMMY NOOOOOOOOOOOOOOOO"
   ]
  },
  {
   "cell_type": "code",
   "execution_count": 60,
   "id": "9709473e-465e-4ef7-94b8-478ef7d527a7",
   "metadata": {},
   "outputs": [
    {
     "name": "stderr",
     "output_type": "stream",
     "text": [
      "Setting `pad_token_id` to `eos_token_id`:50256 for open-end generation.\n"
     ]
    },
    {
     "name": "stdout",
     "output_type": "stream",
     "text": [
      "I relate to robot sinclair\n",
      "What a cool guy(?)\n",
      "I work with him, he seems\n",
      "to be a good guy, I respect him\n",
      "\n",
      "I like his writing style and style, but\n",
      "it might be more because I'm a fan of his\n",
      "work. But I think you'd have to be pretty\n",
      "stacked to not just be one of the fans, but\n",
      "\n"
     ]
    }
   ],
   "source": [
    "%%gpt --max-length 80\n",
    "\n",
    "I relate to robot sinclair\n",
    "What a cool guy(?)"
   ]
  },
  {
   "cell_type": "code",
   "execution_count": 79,
   "id": "00204c22-7b9a-4520-bd29-c880c344e6e9",
   "metadata": {},
   "outputs": [
    {
     "name": "stderr",
     "output_type": "stream",
     "text": [
      "Setting `pad_token_id` to `eos_token_id`:50256 for open-end generation.\n"
     ]
    },
    {
     "name": "stdout",
     "output_type": "stream",
     "text": [
      "Sinclair is a writer.\n",
      "I like his writing style and style, but\n",
      "it might be more because I'm a fan of his\n",
      "work. But I think you'd have to be pretty\n",
      "stacked to not just be one of the fans, but\n",
      "one of the writers of the article.\n",
      "So, I've read the whole article now and I have\n",
      "honestly started to think about it.\n",
      "And, I think it gets to something. And, that\n",
      "is\n"
     ]
    }
   ],
   "source": [
    "%%gpt --max-length 100\n",
    "Sinclair is a writer.\n",
    "I like his writing style and style, but\n",
    "it might be more because I'm a fan of his\n",
    "work. But I think you'd have to be pretty\n",
    "stacked to not just be one of the fans, but"
   ]
  },
  {
   "cell_type": "code",
   "execution_count": 81,
   "id": "0a89a2f4-28ed-478d-96b5-47ea36e9567e",
   "metadata": {},
   "outputs": [
    {
     "name": "stderr",
     "output_type": "stream",
     "text": [
      "Setting `pad_token_id` to `eos_token_id`:50256 for open-end generation.\n"
     ]
    },
    {
     "name": "stdout",
     "output_type": "stream",
     "text": [
      "i want robot sinclair to narrate my life story\n",
      "\n",
      "hey im in california and my english is rusty. im writing a robot story and would be willing to narrate it to a storyteller who can watch in a vid player and give me advice on how to perfect my narration. im in germany so my english is not that good.\n",
      "i live in south america and my english is not that good. im french which is a little less than perfect,\n"
     ]
    }
   ],
   "source": [
    "%%gpt --max-length 100\n",
    "\n",
    "i want robot sinclair to narrate my life\n"
   ]
  },
  {
   "cell_type": "code",
   "execution_count": 14,
   "id": "d3c7e4a5-c547-43c8-ab55-34068c5bf0fd",
   "metadata": {},
   "outputs": [
    {
     "name": "stderr",
     "output_type": "stream",
     "text": [
      "Setting `pad_token_id` to `eos_token_id`:50256 for open-end generation.\n"
     ]
    },
    {
     "name": "stdout",
     "output_type": "stream",
     "text": [
      "i miss everyone running around with purple semen floating around in their hair\" \"*\" \"* I'm a mutant, I'm beautiful, I'm everything, I am the most.\" \"*\" \"* And I'm yours, right here, right now *\" \"* I'm a mutant, I'm beautiful, I'm everything, I am the most.\" \"*\" \"* I'm a mutant, I'm beautiful, I'm everything, I am the most.\" \"So,\n"
     ]
    }
   ],
   "source": [
    "%%gpt --max-length 100\n",
    "\n",
    "i miss everyone running around with purple semen floating around"
   ]
  },
  {
   "cell_type": "code",
   "execution_count": 26,
   "id": "51114bcb-6c28-4eb7-9a29-852a23d1dc34",
   "metadata": {},
   "outputs": [
    {
     "name": "stderr",
     "output_type": "stream",
     "text": [
      "Setting `pad_token_id` to `eos_token_id`:50256 for open-end generation.\n"
     ]
    },
    {
     "name": "stdout",
     "output_type": "stream",
     "text": [
      "#SINCLAIRBOTFORGM2021\n",
      "The world does not deserve such a blessing; it is the gift of SINS\n",
      "\n",
      "As the world's most powerful being, this being is capable of causing the greatest calamities.\n",
      "\n",
      "---\n",
      "\n",
      "**(This is a review of his SINCLAIRBOTFORGM2020 book. It is an excerpt from the prologue that concludes the book.)**\n",
      "\n",
      "\"I am the world,\" the world says to\n"
     ]
    }
   ],
   "source": [
    "%%gpt --max-length 100\n",
    "\n",
    "#SINCLAIRBOTFORGM2021\n",
    "The world does not deserve such a blessing"
   ]
  },
  {
   "cell_type": "code",
   "execution_count": 29,
   "id": "3aea7c10-83c8-4656-bae9-d6225955ea4f",
   "metadata": {},
   "outputs": [
    {
     "name": "stderr",
     "output_type": "stream",
     "text": [
      "Setting `pad_token_id` to `eos_token_id`:50256 for open-end generation.\n"
     ]
    },
    {
     "name": "stdout",
     "output_type": "stream",
     "text": [
      "Brap bad. Brap bad. Brap bad.\n",
      "Brap bad!!\n",
      "\n",
      "~~~\n",
      "dudus\n",
      "I think I have to agree with you. The video was awful... and then I saw the\n",
      "title and knew what I was about to watch, so I had to stop.\n",
      "\n",
      "~~~\n",
      "tjogin\n",
      "I agree. It definitely was horrible.\n",
      "\n",
      "------\n",
      "danielbarla\n",
      "I'm sure there are many in this thread that are\n"
     ]
    }
   ],
   "source": [
    "%%gpt --max-length 100\n",
    "\n",
    "Brap bad. Brap bad."
   ]
  },
  {
   "cell_type": "code",
   "execution_count": 43,
   "id": "ffd6b824-7f8a-457f-bfc7-809361ebf8d6",
   "metadata": {},
   "outputs": [
    {
     "name": "stderr",
     "output_type": "stream",
     "text": [
      "Setting `pad_token_id` to `eos_token_id`:50256 for open-end generation.\n"
     ]
    },
    {
     "name": "stdout",
     "output_type": "stream",
     "text": [
      "wow LPQs are so hecking fun and nostalgic! ive already went from 35 to 40 in the span of 2 hours\n",
      "made great friends along the way and lost 5 fame because i was AFKing the portal stage but i mean can you blame me?? theyre both great for a couple of hours and i'm always trying to get away!\n",
      "sounds like you guys will be great for the time that you last\n",
      "\n",
      "i think the last 3 seasons i was AFKing at my alt+13.99 and had over 2,000 gold and had 1,500 silver and 1\n"
     ]
    }
   ],
   "source": [
    "%%gpt --max-length 120\n",
    "\n",
    "wow LPQs are so hecking fun and nostalgic! ive already went from 35 to 40 in the span of 2 hours\n",
    "made great friends along the way and lost 5 fame because i was AFKing the portal stage but i mean can you blame me"
   ]
  },
  {
   "cell_type": "code",
   "execution_count": 47,
   "id": "ec8d5cd9-76e3-44c3-9ccc-82fad0eca274",
   "metadata": {},
   "outputs": [
    {
     "name": "stderr",
     "output_type": "stream",
     "text": [
      "Setting `pad_token_id` to `eos_token_id`:50256 for open-end generation.\n"
     ]
    },
    {
     "name": "stdout",
     "output_type": "stream",
     "text": [
      "try:\n",
      "    url = sys.argv[1]\n",
      "except:\n",
      "    raise ValueError(\"must provide url to thread\")\n",
      "\n",
      "output = Path(__file__).parent.parent / \"data\" / \"html\"\n",
      "\n",
      "options = webdriver.ChromeOptions()\n",
      "options.add_experimental_option(\"debuggerAddress\", \"127.0.0.1:9222\")\n",
      "driver = webdriver.Chrome(options=options)\n",
      "print(\"loaded driver\")\n",
      "\n",
      "# Load file by adding path to driver.\n",
      "# This is not mandatory but adds to the ability to do stuff like\n",
      "# 'open' on the webdriver object and 'driver' (using the web driver) on a file object,\n",
      "# etc.\n",
      "with open(output, 'rb') as f:\n",
      "    print('loaded file %s' % f.name)\n",
      "    try:\n",
      "        driver.get(url)\n",
      "        print(\n",
      "        \"<html>\",\n",
      "        \"<head>\",\n",
      "        \"<title>\")\n",
      "        print(\"Chrome driver test file: %s\" % output.__file__)\n",
      "        \"</title>\",\n",
      "        \"</head>\",\n",
      "        \"<body>\",\n",
      "        \"<h1>\")\n",
      "        print(\"Chrome driver test file: %s\" % output.__file__)\n",
      "        \"</h1>\",\n",
      "        \"<p>\")\n",
      "        print(\"Chrome driver test file: %s\" % output.__file__)\n",
      "        \"</p>\",\n",
      "        \"</body>\",\n",
      "        \"</html>\"\n",
      "    except (WebDriverException, SystemExit):\n",
      "        with open(output, 'wb') as f:\n",
      "            f.write(b'<html><head><title>Chrome driver test file: %s</title></head>\\n\\n')\n",
      "            print(\"Chrome driver exception occurred\")\n",
      "            f.write(\n",
      "                b'<html><head>\\n\")\n",
      "        print(\"Chrome driver exception occurred\")\n",
      "        fp = open(output, 'rb')\n",
      "        rf = open(output, 'wb')\n",
      "        for line in fp.read():\n",
      "            if line.startswith(\"<!DOCTYPE html PUBLIC '-//W3C//DTD XHTML 1.0 Strict//EN' \"\n",
      "                                \" 'http://www.w3.org/TR/xhtml1/DTD/xhtml1-strict.dtd'>\") or line == \"</html>\":\n",
      "                continue\n",
      "            fp.write(line)\n",
      "            rf.write(line)\n",
      "        rf.close()\n",
      "        fp.close()\n",
      "        f.close()\n",
      "        print(\"\\n\")\n",
      "        print(\"Chrome driver exception occurred\")\n",
      "        f.write(\n",
      "            b\"<html><head>\\n\")\n",
      "        print(\"Chrome driver exception occurred\")\n",
      "        print(\"<h1>\")\n",
      "        print(\"Chrome driver exception occurred\")\n",
      "        f.write(\n",
      "          \n"
     ]
    }
   ],
   "source": [
    "%%gpt --max-length 1000\n",
    "\n",
    "\n",
    "try:\n",
    "    url = sys.argv[1]\n",
    "except:\n",
    "    raise ValueError(\"must provide url to thread\")\n",
    "\n",
    "output = Path(__file__).parent.parent / \"data\" / \"html\"\n",
    "\n",
    "options = webdriver.ChromeOptions()\n",
    "options.add_experimental_option(\"debuggerAddress\", \"127.0.0.1:9222\")\n",
    "driver = webdriver.Chrome(options=options)\n",
    "print(\"loaded driver\")"
   ]
  },
  {
   "cell_type": "code",
   "execution_count": 19,
   "id": "bf998f91",
   "metadata": {},
   "outputs": [
    {
     "name": "stderr",
     "output_type": "stream",
     "text": [
      "Setting `pad_token_id` to `eos_token_id`:50256 for open-end generation.\n"
     ]
    },
    {
     "name": "stdout",
     "output_type": "stream",
     "text": [
      "baby baby baby baby you so sexy i want you\n",
      "baby baby baby baby I'm so far away from you\n",
      "baby baby baby baby I'm so alone without you\n",
      "baby baby baby baby you so beautiful you got me hot\n",
      "baby baby baby baby yeah baby baby baby\n",
      "let me love you baby baby baby baby I'm always with you\n",
      "baby baby baby baby baby baby baby baby baby\n",
      "when you hear my voice baby girl\n",
      "babybabybaby baby baby baby baby baby your love will drive me\n"
     ]
    }
   ],
   "source": [
    "%%gpt --max-length 100\n",
    "\n",
    "baby baby baby baby you so sexy i want you\n",
    "baby baby baby baby I'm so far away from you\n",
    "baby baby baby baby I'm so alone without you\n",
    "\n",
    "\n",
    "\n",
    "\n"
   ]
  },
  {
   "cell_type": "code",
   "execution_count": 20,
   "id": "86cd42b2",
   "metadata": {},
   "outputs": [
    {
     "name": "stderr",
     "output_type": "stream",
     "text": [
      "Setting `pad_token_id` to `eos_token_id`:50256 for open-end generation.\n"
     ]
    },
    {
     "name": "stdout",
     "output_type": "stream",
     "text": [
      "KIMMY AAAAAAAAAAAAAAAAAAAAAA OOOOOOOOOOOOOOOOOOOOOOOOOOOOOOOOOOOOO\n",
      "kIMYMYMIYIMYMIYMYMYMHOOHIOHIOHOOHOOOJKIMMYMIGUINIYIMMYMIGUINIMMYMIGUIB\n",
      "O OO IOOO O Ooo IOOO OO Oooo IOOO OOO\n",
      "kIMMYMIYMYMMIYMMYMGMIIYMMMY\n"
     ]
    }
   ],
   "source": [
    "%%gpt --max-length 100\n",
    "\n",
    "KIMMY AAAAAAAAAAAAAAAAAAAAAA OOOOOOOOOOOOOOOOOOOOOOOOOOOOOOOOOOOOO\n",
    "kIMYMYMIYIMYMIYMYMYMHOOHIO"
   ]
  },
  {
   "cell_type": "code",
   "execution_count": 32,
   "id": "8f8f7870",
   "metadata": {},
   "outputs": [
    {
     "name": "stderr",
     "output_type": "stream",
     "text": [
      "Setting `pad_token_id` to `eos_token_id`:50256 for open-end generation.\n"
     ]
    },
    {
     "name": "stdout",
     "output_type": "stream",
     "text": [
      "ofc\n",
      "i told u im not dutch\n",
      "u finally believe me now?\n",
      "u guys don't think that i am trying \n",
      "to disrespect u?\n",
      "u guys think that because of your language\n",
      "that i am disrespecting u?\n",
      "i'm trying to help u here\n",
      "u guys shouldn't put down my country\n",
      "or our language\n",
      "i am trying to help u here\n",
      "because you make these jokes while i am trying to help u\n",
      "now u guys are not like \n"
     ]
    }
   ],
   "source": [
    "%%gpt --max-length 100\n",
    "\n",
    "ofc\n",
    "i told u im not dutch\n",
    "u finally believe me now?"
   ]
  },
  {
   "cell_type": "code",
   "execution_count": 15,
   "id": "41641add",
   "metadata": {},
   "outputs": [
    {
     "name": "stderr",
     "output_type": "stream",
     "text": [
      "Setting `pad_token_id` to `eos_token_id`:50256 for open-end generation.\n"
     ]
    },
    {
     "name": "stdout",
     "output_type": "stream",
     "text": [
      "eat assays that would be much more economical than the large scale cultivation of cells. In the future, cell lines will be important for the detection of new and important pathogens.\n",
      "\n",
      "Author Contributions {#s6}\n",
      "====================\n",
      "\n",
      "D\n"
     ]
    }
   ],
   "source": [
    "%%gpt --max-length 50\n",
    "\n",
    "eat assays that would be much more economical than the large scale cultivation of cells. In the future, cell lines will be\n"
   ]
  }
 ],
 "metadata": {
  "kernelspec": {
   "display_name": "Python 3",
   "language": "python",
   "name": "python3"
  },
  "language_info": {
   "codemirror_mode": {
    "name": "ipython",
    "version": 3
   },
   "file_extension": ".py",
   "mimetype": "text/x-python",
   "name": "python",
   "nbconvert_exporter": "python",
   "pygments_lexer": "ipython3",
   "version": "3.8.9"
  }
 },
 "nbformat": 4,
 "nbformat_minor": 5
}
