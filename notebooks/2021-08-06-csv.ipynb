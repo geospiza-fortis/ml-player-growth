{
 "cells": [
  {
   "cell_type": "code",
   "execution_count": 1,
   "id": "f59e4ce3-5c4f-4782-98d4-a0d6631fadc6",
   "metadata": {},
   "outputs": [],
   "source": [
    "import os\n",
    "import pyspark\n",
    "from pyspark.sql import SparkSession, functions as F\n",
    "import matplotlib.pyplot as plt\n",
    "\n",
    "os.environ[\"SPARK_HOME\"] = pyspark.__path__[0]\n",
    "os.environ[\"PYSPARK_DRIVER_PYTHON\"] = \"python\"\n",
    "os.environ[\"PYSPARK_PYTHON\"] = \"python\"\n",
    "\n",
    "spark = (\n",
    "    SparkSession.builder\n",
    "    .config(\"spark.driver.memory\", \"8g\")\n",
    "    .getOrCreate()\n",
    ")"
   ]
  },
  {
   "cell_type": "code",
   "execution_count": 5,
   "id": "b18fd6a4-d4d8-4d1c-9cba-814aaec7c735",
   "metadata": {},
   "outputs": [
    {
     "name": "stdout",
     "output_type": "stream",
     "text": [
      "root\n",
      " |-- level: long (nullable = true)\n",
      " |-- name: string (nullable = true)\n",
      " |-- timestamp: string (nullable = true)\n",
      "\n",
      "root\n",
      " |-- fame: long (nullable = true)\n",
      " |-- guild: string (nullable = true)\n",
      " |-- job: string (nullable = true)\n",
      " |-- level: long (nullable = true)\n",
      " |-- mastery: string (nullable = true)\n",
      " |-- name: string (nullable = true)\n",
      " |-- rank: long (nullable = true)\n",
      " |-- specialization: string (nullable = true)\n",
      "\n"
     ]
    }
   ],
   "source": [
    "levels = spark.read.json(\"../data/all_levels_20210801.json\", multiLine=True).cache()\n",
    "ranking = spark.read.json(\"../data/all_ranking_20210731_deduped.json\", multiLine=True).cache()\n",
    "levels.createOrReplaceTempView(\"levels\")\n",
    "ranking.createOrReplaceTempView(\"ranking\")\n",
    "levels.printSchema()\n",
    "ranking.printSchema()"
   ]
  },
  {
   "cell_type": "code",
   "execution_count": 8,
   "id": "83f4767d-7b5f-44dc-bcce-79d8a33a0c42",
   "metadata": {},
   "outputs": [],
   "source": [
    "df = spark.sql(\"\"\"\n",
    "with names as (\n",
    "    select distinct name\n",
    "    from levels\n",
    ")\n",
    "select\n",
    "    name,\n",
    "    level,\n",
    "    job,\n",
    "    specialization,\n",
    "    mastery,\n",
    "    fame,\n",
    "    guild,\n",
    "    row_number() over (order by level desc, rank) as rank\n",
    "from ranking\n",
    "right join names\n",
    "using (name)\n",
    "\"\"\")"
   ]
  },
  {
   "cell_type": "code",
   "execution_count": 11,
   "id": "5ebcbcca-ed7e-44da-ad06-25297fe0e2f1",
   "metadata": {},
   "outputs": [
    {
     "data": {
      "text/plain": [
       "(201499, 201499)"
      ]
     },
     "execution_count": 11,
     "metadata": {},
     "output_type": "execute_result"
    }
   ],
   "source": [
    "df.count(), spark.sql(\"select distinct name from levels\").count()"
   ]
  },
  {
   "cell_type": "code",
   "execution_count": 12,
   "id": "0cc820bb-8f5c-4c0f-bf9f-a4202bdf5f69",
   "metadata": {},
   "outputs": [],
   "source": [
    "df.toPandas().to_csv(\"../data/20210801_all_ranking.csv\", header=True, index=False)"
   ]
  },
  {
   "cell_type": "code",
   "execution_count": 13,
   "id": "7c12c0c9-ebf0-4b9a-bfb1-3a3a31b540ec",
   "metadata": {},
   "outputs": [],
   "source": [
    "levels.toPandas().to_csv(\"../data/20210801_all_levels.csv\", header=True, index=False)"
   ]
  }
 ],
 "metadata": {
  "kernelspec": {
   "display_name": "Python 3",
   "language": "python",
   "name": "python3"
  },
  "language_info": {
   "codemirror_mode": {
    "name": "ipython",
    "version": 3
   },
   "file_extension": ".py",
   "mimetype": "text/x-python",
   "name": "python",
   "nbconvert_exporter": "python",
   "pygments_lexer": "ipython3",
   "version": "3.8.9"
  }
 },
 "nbformat": 4,
 "nbformat_minor": 5
}
