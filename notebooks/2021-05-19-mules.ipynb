{
 "cells": [
  {
   "cell_type": "code",
   "execution_count": 1,
   "id": "0853b152-b911-43d4-a672-55a78120b9db",
   "metadata": {},
   "outputs": [],
   "source": [
    "import sqlite3\n",
    "import lifelines\n",
    "import pandas as pd\n",
    "import matplotlib.pyplot as plt\n",
    "from lifelines import KaplanMeierFitter\n",
    "import warnings\n",
    "warnings.filterwarnings('ignore')\n",
    "\n",
    "conn = sqlite3.connect(\"../data/sample_20210509.sqlite\")"
   ]
  },
  {
   "cell_type": "code",
   "execution_count": 15,
   "id": "675d6ca6-6d63-4442-9dab-5924ffece903",
   "metadata": {},
   "outputs": [
    {
     "data": {
      "text/html": [
       "<div>\n",
       "<style scoped>\n",
       "    .dataframe tbody tr th:only-of-type {\n",
       "        vertical-align: middle;\n",
       "    }\n",
       "\n",
       "    .dataframe tbody tr th {\n",
       "        vertical-align: top;\n",
       "    }\n",
       "\n",
       "    .dataframe thead th {\n",
       "        text-align: right;\n",
       "    }\n",
       "</style>\n",
       "<table border=\"1\" class=\"dataframe\">\n",
       "  <thead>\n",
       "    <tr style=\"text-align: right;\">\n",
       "      <th></th>\n",
       "      <th>name</th>\n",
       "    </tr>\n",
       "  </thead>\n",
       "  <tbody>\n",
       "    <tr>\n",
       "      <th>0</th>\n",
       "      <td>Unlucky</td>\n",
       "    </tr>\n",
       "    <tr>\n",
       "      <th>1</th>\n",
       "      <td>Babo</td>\n",
       "    </tr>\n",
       "    <tr>\n",
       "      <th>2</th>\n",
       "      <td>Nude</td>\n",
       "    </tr>\n",
       "    <tr>\n",
       "      <th>3</th>\n",
       "      <td>JayChou</td>\n",
       "    </tr>\n",
       "    <tr>\n",
       "      <th>4</th>\n",
       "      <td>Zeretius</td>\n",
       "    </tr>\n",
       "    <tr>\n",
       "      <th>...</th>\n",
       "      <td>...</td>\n",
       "    </tr>\n",
       "    <tr>\n",
       "      <th>995</th>\n",
       "      <td>Lawkes</td>\n",
       "    </tr>\n",
       "    <tr>\n",
       "      <th>996</th>\n",
       "      <td>Troyy</td>\n",
       "    </tr>\n",
       "    <tr>\n",
       "      <th>997</th>\n",
       "      <td>Liridas</td>\n",
       "    </tr>\n",
       "    <tr>\n",
       "      <th>998</th>\n",
       "      <td>Footwear</td>\n",
       "    </tr>\n",
       "    <tr>\n",
       "      <th>999</th>\n",
       "      <td>PennyXx</td>\n",
       "    </tr>\n",
       "  </tbody>\n",
       "</table>\n",
       "<p>1000 rows × 1 columns</p>\n",
       "</div>"
      ],
      "text/plain": [
       "         name\n",
       "0     Unlucky\n",
       "1        Babo\n",
       "2        Nude\n",
       "3     JayChou\n",
       "4    Zeretius\n",
       "..        ...\n",
       "995    Lawkes\n",
       "996     Troyy\n",
       "997   Liridas\n",
       "998  Footwear\n",
       "999   PennyXx\n",
       "\n",
       "[1000 rows x 1 columns]"
      ]
     },
     "execution_count": 15,
     "metadata": {},
     "output_type": "execute_result"
    }
   ],
   "source": [
    "df = pd.read_sql_query(\"\"\"\n",
    "    SELECT \n",
    "        name\n",
    "    FROM ranking\n",
    "    -- where name like '%[0-9]'\n",
    "\"\"\", conn)\n",
    "df"
   ]
  },
  {
   "cell_type": "code",
   "execution_count": 23,
   "id": "d97ec048-2648-4ad2-afbb-11f894a195b3",
   "metadata": {},
   "outputs": [
    {
     "data": {
      "text/plain": [
       "array(['TicTacToe3', '9812', 'Nightmare96', 'Blu301', 'baratun1',\n",
       "       'LilTay420', 'Niko28', 'penguinvivi2', 'AlterEg0', 'Stoners95',\n",
       "       'ElBrujo18', 'Gamecube945', 'SIm13', 'Menche13', 'avoxo0',\n",
       "       'healer37', 'APRMule1', 'ayshays22', 'Ladyluck1', 'Shaggyx3',\n",
       "       'RawrPanda96', 'mage1', 'shadowchild5', 'sputnik666', 'Lojista1',\n",
       "       'Brownie1', 'Beep0', 'Gruncle2', 'LiLAzNb0i24', 'Joonas47',\n",
       "       'DarkNight01', 'HotBabe69', 'Shu31', 'ConCho123', 'VonLeon96',\n",
       "       'Suspect79', 'KDTrey6', 'buttcrak360', 'Luuk951', 'DefScrolls1',\n",
       "       'black2034', 'Wizard101', 'MrMuIe2', 'ShivFAME193', 'ShivFAME196',\n",
       "       'ShivFAME199', 'ShivFAME202', 'luck17', 'luck18', 'GunNEkuDea01',\n",
       "       'sfmsfm084', 'afo32', 'Idoco23', 'Pie260', 'Donor94',\n",
       "       'StoreYouAh2', 'Netto1', 'Alan715', '0100', 'Munklemule6',\n",
       "       'Parkdragon2', 'Amitrot100', 'Reo01', 'Mule920', 'famed39',\n",
       "       'famed50', 'charliebb55'], dtype=object)"
      ]
     },
     "execution_count": 23,
     "metadata": {},
     "output_type": "execute_result"
    }
   ],
   "source": [
    "df[df.name.apply(lambda x: x[-1].isdigit())].name.values"
   ]
  }
 ],
 "metadata": {
  "kernelspec": {
   "display_name": "Python 3",
   "language": "python",
   "name": "python3"
  },
  "language_info": {
   "codemirror_mode": {
    "name": "ipython",
    "version": 3
   },
   "file_extension": ".py",
   "mimetype": "text/x-python",
   "name": "python",
   "nbconvert_exporter": "python",
   "pygments_lexer": "ipython3",
   "version": "3.8.9"
  }
 },
 "nbformat": 4,
 "nbformat_minor": 5
}
