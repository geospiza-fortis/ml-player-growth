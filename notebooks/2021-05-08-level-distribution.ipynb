{
 "cells": [
  {
   "cell_type": "code",
   "execution_count": 2,
   "id": "30ecc2c4-b51c-45c1-8079-bf50e64dfca9",
   "metadata": {},
   "outputs": [],
   "source": [
    "import datetime\n",
    "import requests\n",
    "from bs4 import BeautifulSoup\n",
    "import numpy as np\n",
    "import pandas as pd\n",
    "import matplotlib.pyplot as plt\n",
    "from tqdm.auto import tqdm"
   ]
  },
  {
   "cell_type": "code",
   "execution_count": 3,
   "id": "9af9bb96-2ec0-41c2-ae49-4c298d7b80ad",
   "metadata": {},
   "outputs": [],
   "source": [
    "url = \"https://maplelegends.com/ranking/all?page=1\"\n",
    "resp =  requests.get(url)\n",
    "soup = BeautifulSoup(resp.text)\n",
    "ranking_table = soup.find(id=\"rankingTable\")"
   ]
  },
  {
   "cell_type": "code",
   "execution_count": 4,
   "id": "2a9ea525-0f21-46f7-9647-7b8e278eaa0c",
   "metadata": {},
   "outputs": [],
   "source": [
    "def parse_row(tr, category):\n",
    "    td = tr.find_all(\"td\")[:6]\n",
    "    return dict(\n",
    "        timestamp=datetime.datetime.utcnow().isoformat(),\n",
    "        category=category,\n",
    "        rank=int(td[0].b.getText()),\n",
    "        name=td[2].b.getText().strip(),\n",
    "        job=td[3].img.get(\"src\").split(\"/\")[-1].rstrip(\".png\"),\n",
    "        specialization=td[3].a.get(\"href\").split(\"/\")[-1],\n",
    "        mastery=td[3].a.getText().lower().strip(),\n",
    "        level=int(td[5].b.getText())\n",
    "    )\n",
    "\n",
    "def parse_page(resp):\n",
    "    category = resp.url.split(\"/\")[-1].split(\"?\")[0]\n",
    "    soup = BeautifulSoup(resp.text)\n",
    "    ranking_table = soup.find(id=\"rankingTable\")\n",
    "    rows = ranking_table.find_all(\"tr\")\n",
    "    data = [parse_row(r, category) for r in rows[1:]]\n",
    "    return data\n",
    "\n",
    "def parse_total(resp):\n",
    "    soup = BeautifulSoup(resp.text)\n",
    "    ranking_table = soup.find(id=\"rankingTable\")\n",
    "    return int(ranking_table.p.b.getText())\n",
    "\n",
    "def get_ranking(page):\n",
    "    url = f\"https://maplelegends.com/ranking/all?page={page}\"\n",
    "    return requests.get(url)"
   ]
  },
  {
   "cell_type": "code",
   "execution_count": 183,
   "id": "1076e39e-aff2-4074-94e8-815d280ce68f",
   "metadata": {},
   "outputs": [
    {
     "data": {
      "text/plain": [
       "192653"
      ]
     },
     "execution_count": 183,
     "metadata": {},
     "output_type": "execute_result"
    }
   ],
   "source": [
    "total = parse_total(resp)\n",
    "total"
   ]
  },
  {
   "cell_type": "code",
   "execution_count": 6,
   "id": "064c2a90-dda8-48ee-a0dc-c8272fad3595",
   "metadata": {},
   "outputs": [
    {
     "data": {
      "text/plain": [
       "[{'timestamp': '2021-05-08T20:57:31.765226',\n",
       "  'category': 'all',\n",
       "  'rank': 1,\n",
       "  'name': 'Unlucky',\n",
       "  'job': 'magicia',\n",
       "  'specialization': 'cleric',\n",
       "  'mastery': 'bishop',\n",
       "  'level': 200},\n",
       " {'timestamp': '2021-05-08T20:57:31.765226',\n",
       "  'category': 'all',\n",
       "  'rank': 2,\n",
       "  'name': 'Babo',\n",
       "  'job': 'thief',\n",
       "  'specialization': 'assassin',\n",
       "  'mastery': 'night lord',\n",
       "  'level': 200},\n",
       " {'timestamp': '2021-05-08T20:57:31.765226',\n",
       "  'category': 'all',\n",
       "  'rank': 3,\n",
       "  'name': 'Nude',\n",
       "  'job': 'thief',\n",
       "  'specialization': 'assassin',\n",
       "  'mastery': 'night lord',\n",
       "  'level': 200},\n",
       " {'timestamp': '2021-05-08T20:57:31.765226',\n",
       "  'category': 'all',\n",
       "  'rank': 4,\n",
       "  'name': 'JayChou',\n",
       "  'job': 'magicia',\n",
       "  'specialization': 'cleric',\n",
       "  'mastery': 'bishop',\n",
       "  'level': 200},\n",
       " {'timestamp': '2021-05-08T20:57:31.766226',\n",
       "  'category': 'all',\n",
       "  'rank': 5,\n",
       "  'name': 'Zeretius',\n",
       "  'job': 'bowma',\n",
       "  'specialization': 'hunter',\n",
       "  'mastery': 'bowmaster',\n",
       "  'level': 200}]"
      ]
     },
     "execution_count": 6,
     "metadata": {},
     "output_type": "execute_result"
    }
   ],
   "source": [
    "parse_page(resp)"
   ]
  },
  {
   "cell_type": "code",
   "execution_count": 141,
   "id": "e0257f6d-446d-40dd-980d-1e45cd5759bf",
   "metadata": {},
   "outputs": [
    {
     "data": {
      "text/plain": [
       "38530"
      ]
     },
     "execution_count": 141,
     "metadata": {},
     "output_type": "execute_result"
    }
   ],
   "source": [
    "parse_total(resp) // 5"
   ]
  },
  {
   "cell_type": "code",
   "execution_count": 7,
   "id": "ed4cb4a6-092d-4004-84a5-71486493c69b",
   "metadata": {},
   "outputs": [
    {
     "data": {
      "application/vnd.jupyter.widget-view+json": {
       "model_id": "18f6812a93de4e0b8c979d442498beac",
       "version_major": 2,
       "version_minor": 0
      },
      "text/plain": [
       "  0%|          | 0/20 [00:00<?, ?it/s]"
      ]
     },
     "metadata": {},
     "output_type": "display_data"
    }
   ],
   "source": [
    "pages = parse_total(resp) // 5\n",
    "\n",
    "res = []\n",
    "for i in tqdm(np.linspace(1, pages, 20).astype(int)):\n",
    "    resp = get_ranking(i)\n",
    "    res.append(parse_page(resp))"
   ]
  },
  {
   "cell_type": "code",
   "execution_count": 8,
   "id": "65bbf4e9-c554-41fc-9fd8-ac0e0cf7cd5b",
   "metadata": {},
   "outputs": [
    {
     "data": {
      "text/html": [
       "<div>\n",
       "<style scoped>\n",
       "    .dataframe tbody tr th:only-of-type {\n",
       "        vertical-align: middle;\n",
       "    }\n",
       "\n",
       "    .dataframe tbody tr th {\n",
       "        vertical-align: top;\n",
       "    }\n",
       "\n",
       "    .dataframe thead th {\n",
       "        text-align: right;\n",
       "    }\n",
       "</style>\n",
       "<table border=\"1\" class=\"dataframe\">\n",
       "  <thead>\n",
       "    <tr style=\"text-align: right;\">\n",
       "      <th></th>\n",
       "      <th>timestamp</th>\n",
       "      <th>category</th>\n",
       "      <th>rank</th>\n",
       "      <th>name</th>\n",
       "      <th>job</th>\n",
       "      <th>specialization</th>\n",
       "      <th>mastery</th>\n",
       "      <th>level</th>\n",
       "    </tr>\n",
       "  </thead>\n",
       "  <tbody>\n",
       "    <tr>\n",
       "      <th>0</th>\n",
       "      <td>2021-05-08T20:57:50.307054</td>\n",
       "      <td>all</td>\n",
       "      <td>1</td>\n",
       "      <td>Unlucky</td>\n",
       "      <td>magicia</td>\n",
       "      <td>cleric</td>\n",
       "      <td>bishop</td>\n",
       "      <td>200</td>\n",
       "    </tr>\n",
       "    <tr>\n",
       "      <th>1</th>\n",
       "      <td>2021-05-08T20:57:50.307054</td>\n",
       "      <td>all</td>\n",
       "      <td>2</td>\n",
       "      <td>Babo</td>\n",
       "      <td>thief</td>\n",
       "      <td>assassin</td>\n",
       "      <td>night lord</td>\n",
       "      <td>200</td>\n",
       "    </tr>\n",
       "    <tr>\n",
       "      <th>2</th>\n",
       "      <td>2021-05-08T20:57:50.307054</td>\n",
       "      <td>all</td>\n",
       "      <td>3</td>\n",
       "      <td>Nude</td>\n",
       "      <td>thief</td>\n",
       "      <td>assassin</td>\n",
       "      <td>night lord</td>\n",
       "      <td>200</td>\n",
       "    </tr>\n",
       "    <tr>\n",
       "      <th>3</th>\n",
       "      <td>2021-05-08T20:57:50.308067</td>\n",
       "      <td>all</td>\n",
       "      <td>4</td>\n",
       "      <td>JayChou</td>\n",
       "      <td>magicia</td>\n",
       "      <td>cleric</td>\n",
       "      <td>bishop</td>\n",
       "      <td>200</td>\n",
       "    </tr>\n",
       "    <tr>\n",
       "      <th>4</th>\n",
       "      <td>2021-05-08T20:57:50.308067</td>\n",
       "      <td>all</td>\n",
       "      <td>5</td>\n",
       "      <td>Zeretius</td>\n",
       "      <td>bowma</td>\n",
       "      <td>hunter</td>\n",
       "      <td>bowmaster</td>\n",
       "      <td>200</td>\n",
       "    </tr>\n",
       "    <tr>\n",
       "      <th>...</th>\n",
       "      <td>...</td>\n",
       "      <td>...</td>\n",
       "      <td>...</td>\n",
       "      <td>...</td>\n",
       "      <td>...</td>\n",
       "      <td>...</td>\n",
       "      <td>...</td>\n",
       "      <td>...</td>\n",
       "    </tr>\n",
       "    <tr>\n",
       "      <th>95</th>\n",
       "      <td>2021-05-08T20:59:10.530088</td>\n",
       "      <td>all</td>\n",
       "      <td>192641</td>\n",
       "      <td>Lawkes</td>\n",
       "      <td>beginner</td>\n",
       "      <td>all</td>\n",
       "      <td>beginner</td>\n",
       "      <td>2</td>\n",
       "    </tr>\n",
       "    <tr>\n",
       "      <th>96</th>\n",
       "      <td>2021-05-08T20:59:10.530088</td>\n",
       "      <td>all</td>\n",
       "      <td>192642</td>\n",
       "      <td>Troyy</td>\n",
       "      <td>beginner</td>\n",
       "      <td>all</td>\n",
       "      <td>beginner</td>\n",
       "      <td>2</td>\n",
       "    </tr>\n",
       "    <tr>\n",
       "      <th>97</th>\n",
       "      <td>2021-05-08T20:59:10.531088</td>\n",
       "      <td>all</td>\n",
       "      <td>192643</td>\n",
       "      <td>Liridas</td>\n",
       "      <td>beginner</td>\n",
       "      <td>all</td>\n",
       "      <td>beginner</td>\n",
       "      <td>2</td>\n",
       "    </tr>\n",
       "    <tr>\n",
       "      <th>98</th>\n",
       "      <td>2021-05-08T20:59:10.531088</td>\n",
       "      <td>all</td>\n",
       "      <td>192644</td>\n",
       "      <td>Footwear</td>\n",
       "      <td>beginner</td>\n",
       "      <td>all</td>\n",
       "      <td>beginner</td>\n",
       "      <td>2</td>\n",
       "    </tr>\n",
       "    <tr>\n",
       "      <th>99</th>\n",
       "      <td>2021-05-08T20:59:10.531088</td>\n",
       "      <td>all</td>\n",
       "      <td>192645</td>\n",
       "      <td>PennyXx</td>\n",
       "      <td>beginner</td>\n",
       "      <td>all</td>\n",
       "      <td>beginner</td>\n",
       "      <td>2</td>\n",
       "    </tr>\n",
       "  </tbody>\n",
       "</table>\n",
       "<p>100 rows × 8 columns</p>\n",
       "</div>"
      ],
      "text/plain": [
       "                     timestamp category    rank      name       job  \\\n",
       "0   2021-05-08T20:57:50.307054      all       1   Unlucky   magicia   \n",
       "1   2021-05-08T20:57:50.307054      all       2      Babo     thief   \n",
       "2   2021-05-08T20:57:50.307054      all       3      Nude     thief   \n",
       "3   2021-05-08T20:57:50.308067      all       4   JayChou   magicia   \n",
       "4   2021-05-08T20:57:50.308067      all       5  Zeretius     bowma   \n",
       "..                         ...      ...     ...       ...       ...   \n",
       "95  2021-05-08T20:59:10.530088      all  192641    Lawkes  beginner   \n",
       "96  2021-05-08T20:59:10.530088      all  192642     Troyy  beginner   \n",
       "97  2021-05-08T20:59:10.531088      all  192643   Liridas  beginner   \n",
       "98  2021-05-08T20:59:10.531088      all  192644  Footwear  beginner   \n",
       "99  2021-05-08T20:59:10.531088      all  192645   PennyXx  beginner   \n",
       "\n",
       "   specialization     mastery  level  \n",
       "0          cleric      bishop    200  \n",
       "1        assassin  night lord    200  \n",
       "2        assassin  night lord    200  \n",
       "3          cleric      bishop    200  \n",
       "4          hunter   bowmaster    200  \n",
       "..            ...         ...    ...  \n",
       "95            all    beginner      2  \n",
       "96            all    beginner      2  \n",
       "97            all    beginner      2  \n",
       "98            all    beginner      2  \n",
       "99            all    beginner      2  \n",
       "\n",
       "[100 rows x 8 columns]"
      ]
     },
     "execution_count": 8,
     "metadata": {},
     "output_type": "execute_result"
    }
   ],
   "source": [
    "import pandas as pd\n",
    "import matplotlib.pyplot as plt\n",
    "\n",
    "df = pd.DataFrame(sum(res, []))\n",
    "df"
   ]
  },
  {
   "cell_type": "code",
   "execution_count": 17,
   "id": "b019719f-a6b5-47b3-a7bf-33552e9b87ed",
   "metadata": {},
   "outputs": [
    {
     "data": {
      "text/plain": [
       "Text(0.5, 1.0, 'ranking vs level')"
      ]
     },
     "execution_count": 17,
     "metadata": {},
     "output_type": "execute_result"
    },
    {
     "data": {
      "image/png": "[encoded data removed]",
      "text/plain": [
       "<Figure size 432x288 with 1 Axes>"
      ]
     },
     "metadata": {
      "needs_background": "light"
     },
     "output_type": "display_data"
    }
   ],
   "source": [
    "plt.scatter(df[\"rank\"], df[\"level\"])\n",
    "plt.title(\"ranking vs level\")"
   ]
  },
  {
   "cell_type": "code",
   "execution_count": 13,
   "id": "c167d6b9-fe04-4654-aaa7-433add77c067",
   "metadata": {},
   "outputs": [
    {
     "data": {
      "text/plain": [
       "<matplotlib.collections.PathCollection at 0x210a7e2ca90>"
      ]
     },
     "execution_count": 13,
     "metadata": {},
     "output_type": "execute_result"
    },
    {
     "data": {
      "image/png": "[encoded data removed]",
      "text/plain": [
       "<Figure size 432x288 with 1 Axes>"
      ]
     },
     "metadata": {
      "needs_background": "light"
     },
     "output_type": "display_data"
    }
   ],
   "source": [
    "plt.scatter(df[\"level\"], df[\"rank\"])"
   ]
  },
  {
   "cell_type": "code",
   "execution_count": 24,
   "id": "25e1dc2c-4e82-4f8b-9f23-e0cbd4c762ad",
   "metadata": {},
   "outputs": [
    {
     "data": {
      "text/plain": [
       "array([    2,     3,     4,     6,    10,    15,    23,    35,    53,\n",
       "          80,   121,   184,   277,   418,   631,   952,  1437,  2168,\n",
       "        3270,  4933,  7441, 11225, 16932, 25542, 38529])"
      ]
     },
     "execution_count": 24,
     "metadata": {},
     "output_type": "execute_result"
    }
   ],
   "source": [
    "np.geomspace(2, pages, 25).astype(int)"
   ]
  },
  {
   "cell_type": "code",
   "execution_count": 25,
   "id": "713f1157-df1c-4b82-a539-055bfd07a07c",
   "metadata": {},
   "outputs": [
    {
     "data": {
      "application/vnd.jupyter.widget-view+json": {
       "model_id": "132c7da0a81344f0ba20c8874e48aa9c",
       "version_major": 2,
       "version_minor": 0
      },
      "text/plain": [
       "  0%|          | 0/25 [00:00<?, ?it/s]"
      ]
     },
     "metadata": {},
     "output_type": "display_data"
    }
   ],
   "source": [
    "res_geom = []\n",
    "for i in tqdm(np.geomspace(2, pages, 25).astype(int)):\n",
    "    resp = get_ranking(i)\n",
    "    res_geom.append(parse_page(resp))"
   ]
  },
  {
   "cell_type": "code",
   "execution_count": 27,
   "id": "f6d81067-a2fa-404a-9253-cc1655f556f0",
   "metadata": {},
   "outputs": [
    {
     "data": {
      "text/plain": [
       "Text(0.5, 1.0, 'ranking vs level')"
      ]
     },
     "execution_count": 27,
     "metadata": {},
     "output_type": "execute_result"
    },
    {
     "data": {
      "image/png": "[encoded data removed]",
      "text/plain": [
       "<Figure size 432x288 with 1 Axes>"
      ]
     },
     "metadata": {
      "needs_background": "light"
     },
     "output_type": "display_data"
    }
   ],
   "source": [
    "df_geom = pd.DataFrame(sum(res_geom, []))\n",
    "plt.scatter(df_geom[\"rank\"], df_geom[\"level\"])\n",
    "plt.title(\"ranking vs level\")"
   ]
  },
  {
   "cell_type": "code",
   "execution_count": 32,
   "id": "e77957ed-65a4-43f5-ba54-083dcc32547e",
   "metadata": {},
   "outputs": [
    {
     "data": {
      "text/plain": [
       "Text(0.5, 1.0, 'ranking vs level')"
      ]
     },
     "execution_count": 32,
     "metadata": {},
     "output_type": "execute_result"
    },
    {
     "data": {
      "image/png": "[encoded data removed]",
      "text/plain": [
       "<Figure size 432x288 with 1 Axes>"
      ]
     },
     "metadata": {
      "needs_background": "light"
     },
     "output_type": "display_data"
    }
   ],
   "source": [
    "plt.scatter(df_geom[\"rank\"], df_geom[\"level\"])\n",
    "plt.xscale(\"log\")\n",
    "plt.title(\"ranking vs level\")"
   ]
  },
  {
   "cell_type": "code",
   "execution_count": 54,
   "id": "33f01536-51aa-4599-9918-451422e16dfe",
   "metadata": {},
   "outputs": [
    {
     "data": {
      "text/plain": [
       "Text(0.5, 1.0, 'ranking vs level')"
      ]
     },
     "execution_count": 54,
     "metadata": {},
     "output_type": "execute_result"
    },
    {
     "data": {
      "image/png": "[encoded data removed]",
      "text/plain": [
       "<Figure size 432x288 with 1 Axes>"
      ]
     },
     "metadata": {
      "needs_background": "light"
     },
     "output_type": "display_data"
    }
   ],
   "source": [
    "df_full = pd.concat([df, df_geom]).sort_values([\"rank\"])\n",
    "plt.scatter(df_full[\"rank\"], df_full[\"level\"])\n",
    "plt.title(\"ranking vs level\")"
   ]
  },
  {
   "cell_type": "code",
   "execution_count": 225,
   "id": "8cf22840-d1a4-4a50-9392-241166bc8ba4",
   "metadata": {},
   "outputs": [
    {
     "data": {
      "text/plain": [
       "Text(0.5, 1.0, 'level vs ranking')"
      ]
     },
     "execution_count": 225,
     "metadata": {},
     "output_type": "execute_result"
    },
    {
     "data": {
      "image/png": "[encoded data removed]",
      "text/plain": [
       "<Figure size 432x288 with 1 Axes>"
      ]
     },
     "metadata": {
      "needs_background": "light"
     },
     "output_type": "display_data"
    }
   ],
   "source": [
    "df_full = pd.concat([df, df_geom]).sort_values([\"rank\"])\n",
    "plt.scatter(df_full[\"level\"], df_full[\"rank\"])\n",
    "plt.title(\"level vs ranking\")"
   ]
  },
  {
   "cell_type": "code",
   "execution_count": 93,
   "id": "20865bc7-fc70-4ced-93aa-da31b0ca56e3",
   "metadata": {},
   "outputs": [
    {
     "data": {
      "text/html": [
       "<div>\n",
       "<style scoped>\n",
       "    .dataframe tbody tr th:only-of-type {\n",
       "        vertical-align: middle;\n",
       "    }\n",
       "\n",
       "    .dataframe tbody tr th {\n",
       "        vertical-align: top;\n",
       "    }\n",
       "\n",
       "    .dataframe thead th {\n",
       "        text-align: right;\n",
       "    }\n",
       "</style>\n",
       "<table border=\"1\" class=\"dataframe\">\n",
       "  <thead>\n",
       "    <tr style=\"text-align: right;\">\n",
       "      <th></th>\n",
       "      <th>timestamp</th>\n",
       "      <th>category</th>\n",
       "      <th>rank</th>\n",
       "      <th>name</th>\n",
       "      <th>job</th>\n",
       "      <th>specialization</th>\n",
       "      <th>mastery</th>\n",
       "      <th>level</th>\n",
       "    </tr>\n",
       "  </thead>\n",
       "  <tbody>\n",
       "    <tr>\n",
       "      <th>0</th>\n",
       "      <td>2021-05-08T20:57:50.307054</td>\n",
       "      <td>all</td>\n",
       "      <td>1</td>\n",
       "      <td>Unlucky</td>\n",
       "      <td>magicia</td>\n",
       "      <td>cleric</td>\n",
       "      <td>bishop</td>\n",
       "      <td>200</td>\n",
       "    </tr>\n",
       "    <tr>\n",
       "      <th>1</th>\n",
       "      <td>2021-05-08T20:57:50.307054</td>\n",
       "      <td>all</td>\n",
       "      <td>2</td>\n",
       "      <td>Babo</td>\n",
       "      <td>thief</td>\n",
       "      <td>assassin</td>\n",
       "      <td>night lord</td>\n",
       "      <td>200</td>\n",
       "    </tr>\n",
       "    <tr>\n",
       "      <th>2</th>\n",
       "      <td>2021-05-08T20:57:50.307054</td>\n",
       "      <td>all</td>\n",
       "      <td>3</td>\n",
       "      <td>Nude</td>\n",
       "      <td>thief</td>\n",
       "      <td>assassin</td>\n",
       "      <td>night lord</td>\n",
       "      <td>200</td>\n",
       "    </tr>\n",
       "    <tr>\n",
       "      <th>3</th>\n",
       "      <td>2021-05-08T20:57:50.308067</td>\n",
       "      <td>all</td>\n",
       "      <td>4</td>\n",
       "      <td>JayChou</td>\n",
       "      <td>magicia</td>\n",
       "      <td>cleric</td>\n",
       "      <td>bishop</td>\n",
       "      <td>200</td>\n",
       "    </tr>\n",
       "    <tr>\n",
       "      <th>4</th>\n",
       "      <td>2021-05-08T20:57:50.308067</td>\n",
       "      <td>all</td>\n",
       "      <td>5</td>\n",
       "      <td>Zeretius</td>\n",
       "      <td>bowma</td>\n",
       "      <td>hunter</td>\n",
       "      <td>bowmaster</td>\n",
       "      <td>200</td>\n",
       "    </tr>\n",
       "    <tr>\n",
       "      <th>...</th>\n",
       "      <td>...</td>\n",
       "      <td>...</td>\n",
       "      <td>...</td>\n",
       "      <td>...</td>\n",
       "      <td>...</td>\n",
       "      <td>...</td>\n",
       "      <td>...</td>\n",
       "      <td>...</td>\n",
       "    </tr>\n",
       "    <tr>\n",
       "      <th>122</th>\n",
       "      <td>2021-05-08T21:22:23.330160</td>\n",
       "      <td>all</td>\n",
       "      <td>192643</td>\n",
       "      <td>SxFlameXx</td>\n",
       "      <td>beginner</td>\n",
       "      <td>all</td>\n",
       "      <td>beginner</td>\n",
       "      <td>2</td>\n",
       "    </tr>\n",
       "    <tr>\n",
       "      <th>123</th>\n",
       "      <td>2021-05-08T21:22:23.330160</td>\n",
       "      <td>all</td>\n",
       "      <td>192644</td>\n",
       "      <td>JDPOOP</td>\n",
       "      <td>beginner</td>\n",
       "      <td>all</td>\n",
       "      <td>beginner</td>\n",
       "      <td>2</td>\n",
       "    </tr>\n",
       "    <tr>\n",
       "      <th>98</th>\n",
       "      <td>2021-05-08T20:59:10.531088</td>\n",
       "      <td>all</td>\n",
       "      <td>192644</td>\n",
       "      <td>Footwear</td>\n",
       "      <td>beginner</td>\n",
       "      <td>all</td>\n",
       "      <td>beginner</td>\n",
       "      <td>2</td>\n",
       "    </tr>\n",
       "    <tr>\n",
       "      <th>99</th>\n",
       "      <td>2021-05-08T20:59:10.531088</td>\n",
       "      <td>all</td>\n",
       "      <td>192645</td>\n",
       "      <td>PennyXx</td>\n",
       "      <td>beginner</td>\n",
       "      <td>all</td>\n",
       "      <td>beginner</td>\n",
       "      <td>2</td>\n",
       "    </tr>\n",
       "    <tr>\n",
       "      <th>124</th>\n",
       "      <td>2021-05-08T21:22:23.330160</td>\n",
       "      <td>all</td>\n",
       "      <td>192645</td>\n",
       "      <td>Liljebackk</td>\n",
       "      <td>beginner</td>\n",
       "      <td>all</td>\n",
       "      <td>beginner</td>\n",
       "      <td>2</td>\n",
       "    </tr>\n",
       "  </tbody>\n",
       "</table>\n",
       "<p>225 rows × 8 columns</p>\n",
       "</div>"
      ],
      "text/plain": [
       "                      timestamp category    rank        name       job  \\\n",
       "0    2021-05-08T20:57:50.307054      all       1     Unlucky   magicia   \n",
       "1    2021-05-08T20:57:50.307054      all       2        Babo     thief   \n",
       "2    2021-05-08T20:57:50.307054      all       3        Nude     thief   \n",
       "3    2021-05-08T20:57:50.308067      all       4     JayChou   magicia   \n",
       "4    2021-05-08T20:57:50.308067      all       5    Zeretius     bowma   \n",
       "..                          ...      ...     ...         ...       ...   \n",
       "122  2021-05-08T21:22:23.330160      all  192643   SxFlameXx  beginner   \n",
       "123  2021-05-08T21:22:23.330160      all  192644      JDPOOP  beginner   \n",
       "98   2021-05-08T20:59:10.531088      all  192644    Footwear  beginner   \n",
       "99   2021-05-08T20:59:10.531088      all  192645     PennyXx  beginner   \n",
       "124  2021-05-08T21:22:23.330160      all  192645  Liljebackk  beginner   \n",
       "\n",
       "    specialization     mastery  level  \n",
       "0           cleric      bishop    200  \n",
       "1         assassin  night lord    200  \n",
       "2         assassin  night lord    200  \n",
       "3           cleric      bishop    200  \n",
       "4           hunter   bowmaster    200  \n",
       "..             ...         ...    ...  \n",
       "122            all    beginner      2  \n",
       "123            all    beginner      2  \n",
       "98             all    beginner      2  \n",
       "99             all    beginner      2  \n",
       "124            all    beginner      2  \n",
       "\n",
       "[225 rows x 8 columns]"
      ]
     },
     "execution_count": 93,
     "metadata": {},
     "output_type": "execute_result"
    }
   ],
   "source": [
    "df_full"
   ]
  },
  {
   "cell_type": "code",
   "execution_count": 207,
   "id": "5ca5a851-9d02-462b-8033-ea512c02e9e1",
   "metadata": {},
   "outputs": [
    {
     "data": {
      "text/html": [
       "<div>\n",
       "<style scoped>\n",
       "    .dataframe tbody tr th:only-of-type {\n",
       "        vertical-align: middle;\n",
       "    }\n",
       "\n",
       "    .dataframe tbody tr th {\n",
       "        vertical-align: top;\n",
       "    }\n",
       "\n",
       "    .dataframe thead th {\n",
       "        text-align: right;\n",
       "    }\n",
       "</style>\n",
       "<table border=\"1\" class=\"dataframe\">\n",
       "  <thead>\n",
       "    <tr style=\"text-align: right;\">\n",
       "      <th></th>\n",
       "      <th>level</th>\n",
       "      <th>rank</th>\n",
       "      <th>n</th>\n",
       "    </tr>\n",
       "  </thead>\n",
       "  <tbody>\n",
       "    <tr>\n",
       "      <th>1</th>\n",
       "      <td>5</td>\n",
       "      <td>182505</td>\n",
       "      <td>3380.000000</td>\n",
       "    </tr>\n",
       "    <tr>\n",
       "      <th>2</th>\n",
       "      <td>7</td>\n",
       "      <td>172365</td>\n",
       "      <td>5070.000000</td>\n",
       "    </tr>\n",
       "    <tr>\n",
       "      <th>3</th>\n",
       "      <td>8</td>\n",
       "      <td>162225</td>\n",
       "      <td>10140.000000</td>\n",
       "    </tr>\n",
       "    <tr>\n",
       "      <th>4</th>\n",
       "      <td>10</td>\n",
       "      <td>152085</td>\n",
       "      <td>5070.000000</td>\n",
       "    </tr>\n",
       "    <tr>\n",
       "      <th>5</th>\n",
       "      <td>12</td>\n",
       "      <td>141950</td>\n",
       "      <td>5067.500000</td>\n",
       "    </tr>\n",
       "    <tr>\n",
       "      <th>6</th>\n",
       "      <td>14</td>\n",
       "      <td>131810</td>\n",
       "      <td>5070.000000</td>\n",
       "    </tr>\n",
       "    <tr>\n",
       "      <th>7</th>\n",
       "      <td>15</td>\n",
       "      <td>127710</td>\n",
       "      <td>4100.000000</td>\n",
       "    </tr>\n",
       "    <tr>\n",
       "      <th>8</th>\n",
       "      <td>17</td>\n",
       "      <td>111530</td>\n",
       "      <td>8090.000000</td>\n",
       "    </tr>\n",
       "    <tr>\n",
       "      <th>9</th>\n",
       "      <td>19</td>\n",
       "      <td>101390</td>\n",
       "      <td>5070.000000</td>\n",
       "    </tr>\n",
       "    <tr>\n",
       "      <th>10</th>\n",
       "      <td>22</td>\n",
       "      <td>91255</td>\n",
       "      <td>3378.333333</td>\n",
       "    </tr>\n",
       "    <tr>\n",
       "      <th>11</th>\n",
       "      <td>24</td>\n",
       "      <td>84660</td>\n",
       "      <td>3297.500000</td>\n",
       "    </tr>\n",
       "    <tr>\n",
       "      <th>12</th>\n",
       "      <td>26</td>\n",
       "      <td>81115</td>\n",
       "      <td>1772.500000</td>\n",
       "    </tr>\n",
       "    <tr>\n",
       "      <th>13</th>\n",
       "      <td>31</td>\n",
       "      <td>70975</td>\n",
       "      <td>2028.000000</td>\n",
       "    </tr>\n",
       "    <tr>\n",
       "      <th>14</th>\n",
       "      <td>35</td>\n",
       "      <td>60835</td>\n",
       "      <td>2535.000000</td>\n",
       "    </tr>\n",
       "    <tr>\n",
       "      <th>16</th>\n",
       "      <td>38</td>\n",
       "      <td>56125</td>\n",
       "      <td>2354.000000</td>\n",
       "    </tr>\n",
       "    <tr>\n",
       "      <th>17</th>\n",
       "      <td>41</td>\n",
       "      <td>50695</td>\n",
       "      <td>1810.000000</td>\n",
       "    </tr>\n",
       "    <tr>\n",
       "      <th>18</th>\n",
       "      <td>46</td>\n",
       "      <td>40560</td>\n",
       "      <td>2027.000000</td>\n",
       "    </tr>\n",
       "    <tr>\n",
       "      <th>19</th>\n",
       "      <td>50</td>\n",
       "      <td>37205</td>\n",
       "      <td>838.750000</td>\n",
       "    </tr>\n",
       "    <tr>\n",
       "      <th>20</th>\n",
       "      <td>57</td>\n",
       "      <td>30420</td>\n",
       "      <td>969.285714</td>\n",
       "    </tr>\n",
       "    <tr>\n",
       "      <th>21</th>\n",
       "      <td>71</td>\n",
       "      <td>24665</td>\n",
       "      <td>411.071429</td>\n",
       "    </tr>\n",
       "    <tr>\n",
       "      <th>22</th>\n",
       "      <td>82</td>\n",
       "      <td>20280</td>\n",
       "      <td>398.636364</td>\n",
       "    </tr>\n",
       "    <tr>\n",
       "      <th>23</th>\n",
       "      <td>97</td>\n",
       "      <td>16350</td>\n",
       "      <td>262.000000</td>\n",
       "    </tr>\n",
       "    <tr>\n",
       "      <th>24</th>\n",
       "      <td>124</td>\n",
       "      <td>10840</td>\n",
       "      <td>204.074074</td>\n",
       "    </tr>\n",
       "    <tr>\n",
       "      <th>25</th>\n",
       "      <td>127</td>\n",
       "      <td>10140</td>\n",
       "      <td>233.333333</td>\n",
       "    </tr>\n",
       "    <tr>\n",
       "      <th>26</th>\n",
       "      <td>137</td>\n",
       "      <td>7185</td>\n",
       "      <td>295.500000</td>\n",
       "    </tr>\n",
       "    <tr>\n",
       "      <th>27</th>\n",
       "      <td>148</td>\n",
       "      <td>4760</td>\n",
       "      <td>220.454545</td>\n",
       "    </tr>\n",
       "    <tr>\n",
       "      <th>28</th>\n",
       "      <td>158</td>\n",
       "      <td>3155</td>\n",
       "      <td>160.500000</td>\n",
       "    </tr>\n",
       "    <tr>\n",
       "      <th>29</th>\n",
       "      <td>166</td>\n",
       "      <td>2090</td>\n",
       "      <td>133.125000</td>\n",
       "    </tr>\n",
       "    <tr>\n",
       "      <th>30</th>\n",
       "      <td>172</td>\n",
       "      <td>1385</td>\n",
       "      <td>117.500000</td>\n",
       "    </tr>\n",
       "    <tr>\n",
       "      <th>31</th>\n",
       "      <td>179</td>\n",
       "      <td>920</td>\n",
       "      <td>66.428571</td>\n",
       "    </tr>\n",
       "    <tr>\n",
       "      <th>32</th>\n",
       "      <td>184</td>\n",
       "      <td>605</td>\n",
       "      <td>63.000000</td>\n",
       "    </tr>\n",
       "    <tr>\n",
       "      <th>33</th>\n",
       "      <td>190</td>\n",
       "      <td>400</td>\n",
       "      <td>34.166667</td>\n",
       "    </tr>\n",
       "    <tr>\n",
       "      <th>34</th>\n",
       "      <td>194</td>\n",
       "      <td>265</td>\n",
       "      <td>33.750000</td>\n",
       "    </tr>\n",
       "    <tr>\n",
       "      <th>36</th>\n",
       "      <td>200</td>\n",
       "      <td>175</td>\n",
       "      <td>17.600000</td>\n",
       "    </tr>\n",
       "  </tbody>\n",
       "</table>\n",
       "</div>"
      ],
      "text/plain": [
       "    level    rank             n\n",
       "1       5  182505   3380.000000\n",
       "2       7  172365   5070.000000\n",
       "3       8  162225  10140.000000\n",
       "4      10  152085   5070.000000\n",
       "5      12  141950   5067.500000\n",
       "6      14  131810   5070.000000\n",
       "7      15  127710   4100.000000\n",
       "8      17  111530   8090.000000\n",
       "9      19  101390   5070.000000\n",
       "10     22   91255   3378.333333\n",
       "11     24   84660   3297.500000\n",
       "12     26   81115   1772.500000\n",
       "13     31   70975   2028.000000\n",
       "14     35   60835   2535.000000\n",
       "16     38   56125   2354.000000\n",
       "17     41   50695   1810.000000\n",
       "18     46   40560   2027.000000\n",
       "19     50   37205    838.750000\n",
       "20     57   30420    969.285714\n",
       "21     71   24665    411.071429\n",
       "22     82   20280    398.636364\n",
       "23     97   16350    262.000000\n",
       "24    124   10840    204.074074\n",
       "25    127   10140    233.333333\n",
       "26    137    7185    295.500000\n",
       "27    148    4760    220.454545\n",
       "28    158    3155    160.500000\n",
       "29    166    2090    133.125000\n",
       "30    172    1385    117.500000\n",
       "31    179     920     66.428571\n",
       "32    184     605     63.000000\n",
       "33    190     400     34.166667\n",
       "34    194     265     33.750000\n",
       "36    200     175     17.600000"
      ]
     },
     "execution_count": 207,
     "metadata": {},
     "output_type": "execute_result"
    }
   ],
   "source": [
    "buckets = df_full.groupby(\"level\").max(\"rank\").reset_index()\n",
    "buckets[\"n\"] = buckets[\"rank\"].diff().abs() / buckets[\"level\"].diff().abs()\n",
    "buckets = buckets.dropna()\n",
    "buckets[buckets.n > 10]"
   ]
  },
  {
   "cell_type": "code",
   "execution_count": 208,
   "id": "f3a968c1-72a3-4fef-80e0-eb4dd1952660",
   "metadata": {},
   "outputs": [
    {
     "data": {
      "text/plain": [
       "[<matplotlib.lines.Line2D at 0x210ce8d18b0>]"
      ]
     },
     "execution_count": 208,
     "metadata": {},
     "output_type": "execute_result"
    },
    {
     "data": {
      "image/png": "[encoded data removed]",
      "text/plain": [
       "<Figure size 432x288 with 1 Axes>"
      ]
     },
     "metadata": {
      "needs_background": "light"
     },
     "output_type": "display_data"
    }
   ],
   "source": [
    "plt.plot(buckets.level, buckets.n)"
   ]
  },
  {
   "cell_type": "code",
   "execution_count": 157,
   "id": "3b5e1390-2f28-4e06-9567-99c69aa917c3",
   "metadata": {},
   "outputs": [
    {
     "name": "stderr",
     "output_type": "stream",
     "text": [
      "c:\\users\\acmiy\\onedrive\\documents\\code\\player-growth\\venv\\lib\\site-packages\\pandas\\core\\arraylike.py:358: RuntimeWarning: overflow encountered in exp\n",
      "  result = getattr(ufunc, method)(*inputs, **kwargs)\n"
     ]
    },
    {
     "data": {
      "text/plain": [
       "array([1.08751519, 0.03594326, 0.01139195])"
      ]
     },
     "execution_count": 157,
     "metadata": {},
     "output_type": "execute_result"
    }
   ],
   "source": [
    "from scipy.optimize import curve_fit\n",
    "from scipy.stats import chisquare\n",
    "\n",
    "# https://docs.scipy.org/doc/scipy/reference/generated/scipy.optimize.curve_fit.html\n",
    "\n",
    "def func(x, a, b, c):\n",
    "    return a*np.exp(-b*x) + c\n",
    "\n",
    "n = df_full[\"rank\"].max()\n",
    "y = df_full[\"rank\"]/n\n",
    "x = df_full[\"level\"]\n",
    "\n",
    "popt, pcov = curve_fit(func, x, y)\n",
    "popt"
   ]
  },
  {
   "cell_type": "code",
   "execution_count": 158,
   "id": "2d8c8814-e3b4-47d5-b124-55036733ad31",
   "metadata": {},
   "outputs": [
    {
     "data": {
      "text/plain": [
       "<matplotlib.legend.Legend at 0x210ce3b8160>"
      ]
     },
     "execution_count": 158,
     "metadata": {},
     "output_type": "execute_result"
    },
    {
     "data": {
      "image/png": "[encoded data removed]",
      "text/plain": [
       "<Figure size 432x288 with 1 Axes>"
      ]
     },
     "metadata": {
      "needs_background": "light"
     },
     "output_type": "display_data"
    }
   ],
   "source": [
    "plt.plot(x, func(x, *popt), \"r-\", label=\"fit\")\n",
    "plt.scatter(x, y, label=\"data\")\n",
    "plt.legend()"
   ]
  },
  {
   "cell_type": "code",
   "execution_count": 159,
   "id": "52dfa019-cdc8-4686-92f3-7ab89e931489",
   "metadata": {},
   "outputs": [
    {
     "data": {
      "text/plain": [
       "Power_divergenceResult(statistic=1.6220055815428007, pvalue=1.0)"
      ]
     },
     "execution_count": 159,
     "metadata": {},
     "output_type": "execute_result"
    }
   ],
   "source": [
    "chisquare(y, func(x, *popt))"
   ]
  },
  {
   "cell_type": "code",
   "execution_count": 161,
   "id": "b3bda634-7fe2-4b77-8f0f-19d4a38042f8",
   "metadata": {},
   "outputs": [
    {
     "data": {
      "text/plain": [
       "5000.021629957082"
      ]
     },
     "execution_count": 161,
     "metadata": {},
     "output_type": "execute_result"
    }
   ],
   "source": [
    "func(120, *popt)*n"
   ]
  },
  {
   "cell_type": "code",
   "execution_count": 217,
   "id": "f8ec648e-eaa7-4a3d-9319-8d9adc8a993d",
   "metadata": {},
   "outputs": [
    {
     "data": {
      "text/html": [
       "<div>\n",
       "<style scoped>\n",
       "    .dataframe tbody tr th:only-of-type {\n",
       "        vertical-align: middle;\n",
       "    }\n",
       "\n",
       "    .dataframe tbody tr th {\n",
       "        vertical-align: top;\n",
       "    }\n",
       "\n",
       "    .dataframe thead th {\n",
       "        text-align: right;\n",
       "    }\n",
       "</style>\n",
       "<table border=\"1\" class=\"dataframe\">\n",
       "  <thead>\n",
       "    <tr style=\"text-align: right;\">\n",
       "      <th></th>\n",
       "      <th>index</th>\n",
       "      <th>timestamp</th>\n",
       "      <th>category</th>\n",
       "      <th>rank</th>\n",
       "      <th>name</th>\n",
       "      <th>job</th>\n",
       "      <th>specialization</th>\n",
       "      <th>mastery</th>\n",
       "      <th>level</th>\n",
       "    </tr>\n",
       "  </thead>\n",
       "  <tbody>\n",
       "    <tr>\n",
       "      <th>0</th>\n",
       "      <td>0</td>\n",
       "      <td>2021-05-08T20:57:50.307054</td>\n",
       "      <td>all</td>\n",
       "      <td>1</td>\n",
       "      <td>Unlucky</td>\n",
       "      <td>magicia</td>\n",
       "      <td>cleric</td>\n",
       "      <td>bishop</td>\n",
       "      <td>200</td>\n",
       "    </tr>\n",
       "    <tr>\n",
       "      <th>1</th>\n",
       "      <td>1</td>\n",
       "      <td>2021-05-08T20:57:50.307054</td>\n",
       "      <td>all</td>\n",
       "      <td>2</td>\n",
       "      <td>Babo</td>\n",
       "      <td>thief</td>\n",
       "      <td>assassin</td>\n",
       "      <td>night lord</td>\n",
       "      <td>200</td>\n",
       "    </tr>\n",
       "    <tr>\n",
       "      <th>2</th>\n",
       "      <td>2</td>\n",
       "      <td>2021-05-08T20:57:50.307054</td>\n",
       "      <td>all</td>\n",
       "      <td>3</td>\n",
       "      <td>Nude</td>\n",
       "      <td>thief</td>\n",
       "      <td>assassin</td>\n",
       "      <td>night lord</td>\n",
       "      <td>200</td>\n",
       "    </tr>\n",
       "    <tr>\n",
       "      <th>3</th>\n",
       "      <td>3</td>\n",
       "      <td>2021-05-08T20:57:50.308067</td>\n",
       "      <td>all</td>\n",
       "      <td>4</td>\n",
       "      <td>JayChou</td>\n",
       "      <td>magicia</td>\n",
       "      <td>cleric</td>\n",
       "      <td>bishop</td>\n",
       "      <td>200</td>\n",
       "    </tr>\n",
       "    <tr>\n",
       "      <th>4</th>\n",
       "      <td>4</td>\n",
       "      <td>2021-05-08T20:57:50.308067</td>\n",
       "      <td>all</td>\n",
       "      <td>5</td>\n",
       "      <td>Zeretius</td>\n",
       "      <td>bowma</td>\n",
       "      <td>hunter</td>\n",
       "      <td>bowmaster</td>\n",
       "      <td>200</td>\n",
       "    </tr>\n",
       "    <tr>\n",
       "      <th>...</th>\n",
       "      <td>...</td>\n",
       "      <td>...</td>\n",
       "      <td>...</td>\n",
       "      <td>...</td>\n",
       "      <td>...</td>\n",
       "      <td>...</td>\n",
       "      <td>...</td>\n",
       "      <td>...</td>\n",
       "      <td>...</td>\n",
       "    </tr>\n",
       "    <tr>\n",
       "      <th>220</th>\n",
       "      <td>122</td>\n",
       "      <td>2021-05-08T21:22:23.330160</td>\n",
       "      <td>all</td>\n",
       "      <td>192643</td>\n",
       "      <td>SxFlameXx</td>\n",
       "      <td>beginner</td>\n",
       "      <td>all</td>\n",
       "      <td>beginner</td>\n",
       "      <td>2</td>\n",
       "    </tr>\n",
       "    <tr>\n",
       "      <th>221</th>\n",
       "      <td>123</td>\n",
       "      <td>2021-05-08T21:22:23.330160</td>\n",
       "      <td>all</td>\n",
       "      <td>192644</td>\n",
       "      <td>JDPOOP</td>\n",
       "      <td>beginner</td>\n",
       "      <td>all</td>\n",
       "      <td>beginner</td>\n",
       "      <td>2</td>\n",
       "    </tr>\n",
       "    <tr>\n",
       "      <th>222</th>\n",
       "      <td>98</td>\n",
       "      <td>2021-05-08T20:59:10.531088</td>\n",
       "      <td>all</td>\n",
       "      <td>192644</td>\n",
       "      <td>Footwear</td>\n",
       "      <td>beginner</td>\n",
       "      <td>all</td>\n",
       "      <td>beginner</td>\n",
       "      <td>2</td>\n",
       "    </tr>\n",
       "    <tr>\n",
       "      <th>223</th>\n",
       "      <td>99</td>\n",
       "      <td>2021-05-08T20:59:10.531088</td>\n",
       "      <td>all</td>\n",
       "      <td>192645</td>\n",
       "      <td>PennyXx</td>\n",
       "      <td>beginner</td>\n",
       "      <td>all</td>\n",
       "      <td>beginner</td>\n",
       "      <td>2</td>\n",
       "    </tr>\n",
       "    <tr>\n",
       "      <th>224</th>\n",
       "      <td>124</td>\n",
       "      <td>2021-05-08T21:22:23.330160</td>\n",
       "      <td>all</td>\n",
       "      <td>192645</td>\n",
       "      <td>Liljebackk</td>\n",
       "      <td>beginner</td>\n",
       "      <td>all</td>\n",
       "      <td>beginner</td>\n",
       "      <td>2</td>\n",
       "    </tr>\n",
       "  </tbody>\n",
       "</table>\n",
       "<p>225 rows × 9 columns</p>\n",
       "</div>"
      ],
      "text/plain": [
       "     index                   timestamp category    rank        name       job  \\\n",
       "0        0  2021-05-08T20:57:50.307054      all       1     Unlucky   magicia   \n",
       "1        1  2021-05-08T20:57:50.307054      all       2        Babo     thief   \n",
       "2        2  2021-05-08T20:57:50.307054      all       3        Nude     thief   \n",
       "3        3  2021-05-08T20:57:50.308067      all       4     JayChou   magicia   \n",
       "4        4  2021-05-08T20:57:50.308067      all       5    Zeretius     bowma   \n",
       "..     ...                         ...      ...     ...         ...       ...   \n",
       "220    122  2021-05-08T21:22:23.330160      all  192643   SxFlameXx  beginner   \n",
       "221    123  2021-05-08T21:22:23.330160      all  192644      JDPOOP  beginner   \n",
       "222     98  2021-05-08T20:59:10.531088      all  192644    Footwear  beginner   \n",
       "223     99  2021-05-08T20:59:10.531088      all  192645     PennyXx  beginner   \n",
       "224    124  2021-05-08T21:22:23.330160      all  192645  Liljebackk  beginner   \n",
       "\n",
       "    specialization     mastery  level  \n",
       "0           cleric      bishop    200  \n",
       "1         assassin  night lord    200  \n",
       "2         assassin  night lord    200  \n",
       "3           cleric      bishop    200  \n",
       "4           hunter   bowmaster    200  \n",
       "..             ...         ...    ...  \n",
       "220            all    beginner      2  \n",
       "221            all    beginner      2  \n",
       "222            all    beginner      2  \n",
       "223            all    beginner      2  \n",
       "224            all    beginner      2  \n",
       "\n",
       "[225 rows x 9 columns]"
      ]
     },
     "execution_count": 217,
     "metadata": {},
     "output_type": "execute_result"
    }
   ],
   "source": [
    "final_df = df_full.sort_values(\"rank\").reset_index().drop_duplicates()\n",
    "final_df"
   ]
  },
  {
   "cell_type": "code",
   "execution_count": 224,
   "id": "fcce63fd-ad32-4d13-aeb1-386a2951ed29",
   "metadata": {},
   "outputs": [],
   "source": [
    "final_df.to_json(\"../data/initial_sample.json\", orient=\"records\")"
   ]
  }
 ],
 "metadata": {
  "kernelspec": {
   "display_name": "Python 3",
   "language": "python",
   "name": "python3"
  },
  "language_info": {
   "codemirror_mode": {
    "name": "ipython",
    "version": 3
   },
   "file_extension": ".py",
   "mimetype": "text/x-python",
   "name": "python",
   "nbconvert_exporter": "python",
   "pygments_lexer": "ipython3",
   "version": "3.8.9"
  }
 },
 "nbformat": 4,
 "nbformat_minor": 5
}
