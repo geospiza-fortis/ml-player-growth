{
 "cells": [
  {
   "cell_type": "code",
   "execution_count": 90,
   "id": "a41c2ddf-90c5-4241-83ef-1480272fbf7c",
   "metadata": {},
   "outputs": [],
   "source": [
    "import warnings\n",
    "warnings.filterwarnings('ignore')"
   ]
  },
  {
   "cell_type": "code",
   "execution_count": 12,
   "id": "bca3adb1-57e7-466f-ac01-5485f6562ecf",
   "metadata": {},
   "outputs": [],
   "source": [
    "import sqlite3\n",
    "import lifelines\n",
    "import pandas as pd\n",
    "import matplotlib.pyplot as plt\n",
    "from lifelines import KaplanMeierFitter\n",
    "\n",
    "conn = sqlite3.connect(\"../data/sample_20210509.sqlite\")"
   ]
  },
  {
   "cell_type": "markdown",
   "id": "644fc4f1-ab3c-4f9a-9fe3-e4e75338e154",
   "metadata": {},
   "source": [
    "# funnel stuff?"
   ]
  },
  {
   "cell_type": "code",
   "execution_count": 38,
   "id": "16d63e23-bd04-4746-b4ce-18765a654d3e",
   "metadata": {},
   "outputs": [
    {
     "data": {
      "text/html": [
       "<div>\n",
       "<style scoped>\n",
       "    .dataframe tbody tr th:only-of-type {\n",
       "        vertical-align: middle;\n",
       "    }\n",
       "\n",
       "    .dataframe tbody tr th {\n",
       "        vertical-align: top;\n",
       "    }\n",
       "\n",
       "    .dataframe thead th {\n",
       "        text-align: right;\n",
       "    }\n",
       "</style>\n",
       "<table border=\"1\" class=\"dataframe\">\n",
       "  <thead>\n",
       "    <tr style=\"text-align: right;\">\n",
       "      <th></th>\n",
       "      <th>level</th>\n",
       "      <th>n</th>\n",
       "    </tr>\n",
       "  </thead>\n",
       "  <tbody>\n",
       "    <tr>\n",
       "      <th>0</th>\n",
       "      <td>2</td>\n",
       "      <td>970</td>\n",
       "    </tr>\n",
       "    <tr>\n",
       "      <th>1</th>\n",
       "      <td>3</td>\n",
       "      <td>960</td>\n",
       "    </tr>\n",
       "    <tr>\n",
       "      <th>2</th>\n",
       "      <td>4</td>\n",
       "      <td>950</td>\n",
       "    </tr>\n",
       "    <tr>\n",
       "      <th>3</th>\n",
       "      <td>5</td>\n",
       "      <td>940</td>\n",
       "    </tr>\n",
       "    <tr>\n",
       "      <th>4</th>\n",
       "      <td>6</td>\n",
       "      <td>930</td>\n",
       "    </tr>\n",
       "    <tr>\n",
       "      <th>...</th>\n",
       "      <td>...</td>\n",
       "      <td>...</td>\n",
       "    </tr>\n",
       "    <tr>\n",
       "      <th>194</th>\n",
       "      <td>196</td>\n",
       "      <td>123</td>\n",
       "    </tr>\n",
       "    <tr>\n",
       "      <th>195</th>\n",
       "      <td>197</td>\n",
       "      <td>122</td>\n",
       "    </tr>\n",
       "    <tr>\n",
       "      <th>196</th>\n",
       "      <td>198</td>\n",
       "      <td>120</td>\n",
       "    </tr>\n",
       "    <tr>\n",
       "      <th>197</th>\n",
       "      <td>199</td>\n",
       "      <td>119</td>\n",
       "    </tr>\n",
       "    <tr>\n",
       "      <th>198</th>\n",
       "      <td>200</td>\n",
       "      <td>116</td>\n",
       "    </tr>\n",
       "  </tbody>\n",
       "</table>\n",
       "<p>199 rows × 2 columns</p>\n",
       "</div>"
      ],
      "text/plain": [
       "     level    n\n",
       "0        2  970\n",
       "1        3  960\n",
       "2        4  950\n",
       "3        5  940\n",
       "4        6  930\n",
       "..     ...  ...\n",
       "194    196  123\n",
       "195    197  122\n",
       "196    198  120\n",
       "197    199  119\n",
       "198    200  116\n",
       "\n",
       "[199 rows x 2 columns]"
      ]
     },
     "execution_count": 38,
     "metadata": {},
     "output_type": "execute_result"
    }
   ],
   "source": [
    "df = pd.read_sql_query(f\"\"\"\n",
    "    select\n",
    "        level,\n",
    "        count(distinct name) as n\n",
    "    from levels\n",
    "    group by 1\n",
    "    order by 1\n",
    "\"\"\", conn)\n",
    "df"
   ]
  },
  {
   "cell_type": "code",
   "execution_count": 41,
   "id": "bb44cad1-9e7e-40af-8f4a-20b95f194633",
   "metadata": {},
   "outputs": [
    {
     "data": {
      "text/plain": [
       "[<matplotlib.lines.Line2D at 0x1faee393c10>]"
      ]
     },
     "execution_count": 41,
     "metadata": {},
     "output_type": "execute_result"
    },
    {
     "data": {
      "image/png": "[encoded data removed]",
      "text/plain": [
       "<Figure size 432x288 with 1 Axes>"
      ]
     },
     "metadata": {
      "needs_background": "light"
     },
     "output_type": "display_data"
    }
   ],
   "source": [
    "plt.plot(df.level, df.n)"
   ]
  },
  {
   "cell_type": "markdown",
   "id": "414b5f24-872d-4f9d-9e47-0c1b4727b7ef",
   "metadata": {},
   "source": [
    "# Survival stuff for level 120"
   ]
  },
  {
   "cell_type": "code",
   "execution_count": 3,
   "id": "2fe89701-9002-4981-b20f-19de3459e238",
   "metadata": {},
   "outputs": [
    {
     "data": {
      "text/html": [
       "<div>\n",
       "<style scoped>\n",
       "    .dataframe tbody tr th:only-of-type {\n",
       "        vertical-align: middle;\n",
       "    }\n",
       "\n",
       "    .dataframe tbody tr th {\n",
       "        vertical-align: top;\n",
       "    }\n",
       "\n",
       "    .dataframe thead th {\n",
       "        text-align: right;\n",
       "    }\n",
       "</style>\n",
       "<table border=\"1\" class=\"dataframe\">\n",
       "  <thead>\n",
       "    <tr style=\"text-align: right;\">\n",
       "      <th></th>\n",
       "      <th>name</th>\n",
       "      <th>level</th>\n",
       "      <th>duration</th>\n",
       "      <th>observed</th>\n",
       "    </tr>\n",
       "  </thead>\n",
       "  <tbody>\n",
       "    <tr>\n",
       "      <th>0</th>\n",
       "      <td>0100</td>\n",
       "      <td>8</td>\n",
       "      <td>789.443472</td>\n",
       "      <td>0</td>\n",
       "    </tr>\n",
       "    <tr>\n",
       "      <th>1</th>\n",
       "      <td>0men</td>\n",
       "      <td>99</td>\n",
       "      <td>513.571806</td>\n",
       "      <td>0</td>\n",
       "    </tr>\n",
       "    <tr>\n",
       "      <th>2</th>\n",
       "      <td>12PM</td>\n",
       "      <td>48</td>\n",
       "      <td>51.246887</td>\n",
       "      <td>0</td>\n",
       "    </tr>\n",
       "    <tr>\n",
       "      <th>3</th>\n",
       "      <td>1stTimeMaple</td>\n",
       "      <td>10</td>\n",
       "      <td>1768.058241</td>\n",
       "      <td>0</td>\n",
       "    </tr>\n",
       "    <tr>\n",
       "      <th>4</th>\n",
       "      <td>20XX</td>\n",
       "      <td>120</td>\n",
       "      <td>37.023866</td>\n",
       "      <td>1</td>\n",
       "    </tr>\n",
       "    <tr>\n",
       "      <th>...</th>\n",
       "      <td>...</td>\n",
       "      <td>...</td>\n",
       "      <td>...</td>\n",
       "      <td>...</td>\n",
       "    </tr>\n",
       "    <tr>\n",
       "      <th>985</th>\n",
       "      <td>yhwach</td>\n",
       "      <td>15</td>\n",
       "      <td>1074.440903</td>\n",
       "      <td>0</td>\n",
       "    </tr>\n",
       "    <tr>\n",
       "      <th>986</th>\n",
       "      <td>zImBaby</td>\n",
       "      <td>7</td>\n",
       "      <td>1959.207627</td>\n",
       "      <td>0</td>\n",
       "    </tr>\n",
       "    <tr>\n",
       "      <th>987</th>\n",
       "      <td>zenq</td>\n",
       "      <td>15</td>\n",
       "      <td>406.435961</td>\n",
       "      <td>0</td>\n",
       "    </tr>\n",
       "    <tr>\n",
       "      <th>988</th>\n",
       "      <td>zzaapp</td>\n",
       "      <td>23</td>\n",
       "      <td>31.685313</td>\n",
       "      <td>0</td>\n",
       "    </tr>\n",
       "    <tr>\n",
       "      <th>989</th>\n",
       "      <td>zzzz</td>\n",
       "      <td>120</td>\n",
       "      <td>33.876424</td>\n",
       "      <td>1</td>\n",
       "    </tr>\n",
       "  </tbody>\n",
       "</table>\n",
       "<p>990 rows × 4 columns</p>\n",
       "</div>"
      ],
      "text/plain": [
       "             name  level     duration  observed\n",
       "0            0100      8   789.443472         0\n",
       "1            0men     99   513.571806         0\n",
       "2            12PM     48    51.246887         0\n",
       "3    1stTimeMaple     10  1768.058241         0\n",
       "4            20XX    120    37.023866         1\n",
       "..            ...    ...          ...       ...\n",
       "985        yhwach     15  1074.440903         0\n",
       "986       zImBaby      7  1959.207627         0\n",
       "987          zenq     15   406.435961         0\n",
       "988        zzaapp     23    31.685313         0\n",
       "989          zzzz    120    33.876424         1\n",
       "\n",
       "[990 rows x 4 columns]"
      ]
     },
     "execution_count": 3,
     "metadata": {},
     "output_type": "execute_result"
    }
   ],
   "source": [
    "level = 120\n",
    "df = pd.read_sql_query(f\"\"\"\n",
    "    with recent as (\n",
    "        select \n",
    "            name,\n",
    "            max(level) as level,\n",
    "            min(timestamp) as start_ts,\n",
    "            max(timestamp) as end_ts\n",
    "        from levels\n",
    "        where level <= {level}\n",
    "        group by 1\n",
    "    )\n",
    "    select\n",
    "        name,\n",
    "        level,\n",
    "        iif(level < {level}, julianday(\"2021-05-09\"), julianday(end_ts)) - julianday(start_ts) as duration,\n",
    "        level = {level} as observed\n",
    "    from recent\n",
    "\"\"\", conn)\n",
    "df"
   ]
  },
  {
   "cell_type": "code",
   "execution_count": 11,
   "id": "5ad1844e-208e-4056-a6a2-6e4733a3a214",
   "metadata": {},
   "outputs": [
    {
     "data": {
      "text/html": [
       "<div>\n",
       "<style scoped>\n",
       "    .dataframe tbody tr th:only-of-type {\n",
       "        vertical-align: middle;\n",
       "    }\n",
       "\n",
       "    .dataframe tbody tr th {\n",
       "        vertical-align: top;\n",
       "    }\n",
       "\n",
       "    .dataframe thead th {\n",
       "        text-align: right;\n",
       "    }\n",
       "</style>\n",
       "<table border=\"1\" class=\"dataframe\">\n",
       "  <thead>\n",
       "    <tr style=\"text-align: right;\">\n",
       "      <th></th>\n",
       "      <th>level</th>\n",
       "      <th>duration</th>\n",
       "      <th>observed</th>\n",
       "    </tr>\n",
       "  </thead>\n",
       "  <tbody>\n",
       "    <tr>\n",
       "      <th>count</th>\n",
       "      <td>345.0</td>\n",
       "      <td>345.000000</td>\n",
       "      <td>345.0</td>\n",
       "    </tr>\n",
       "    <tr>\n",
       "      <th>mean</th>\n",
       "      <td>120.0</td>\n",
       "      <td>107.044146</td>\n",
       "      <td>1.0</td>\n",
       "    </tr>\n",
       "    <tr>\n",
       "      <th>std</th>\n",
       "      <td>0.0</td>\n",
       "      <td>161.190462</td>\n",
       "      <td>0.0</td>\n",
       "    </tr>\n",
       "    <tr>\n",
       "      <th>min</th>\n",
       "      <td>120.0</td>\n",
       "      <td>4.698542</td>\n",
       "      <td>1.0</td>\n",
       "    </tr>\n",
       "    <tr>\n",
       "      <th>25%</th>\n",
       "      <td>120.0</td>\n",
       "      <td>29.773461</td>\n",
       "      <td>1.0</td>\n",
       "    </tr>\n",
       "    <tr>\n",
       "      <th>50%</th>\n",
       "      <td>120.0</td>\n",
       "      <td>53.694931</td>\n",
       "      <td>1.0</td>\n",
       "    </tr>\n",
       "    <tr>\n",
       "      <th>75%</th>\n",
       "      <td>120.0</td>\n",
       "      <td>100.279676</td>\n",
       "      <td>1.0</td>\n",
       "    </tr>\n",
       "    <tr>\n",
       "      <th>max</th>\n",
       "      <td>120.0</td>\n",
       "      <td>1159.546713</td>\n",
       "      <td>1.0</td>\n",
       "    </tr>\n",
       "  </tbody>\n",
       "</table>\n",
       "</div>"
      ],
      "text/plain": [
       "       level     duration  observed\n",
       "count  345.0   345.000000     345.0\n",
       "mean   120.0   107.044146       1.0\n",
       "std      0.0   161.190462       0.0\n",
       "min    120.0     4.698542       1.0\n",
       "25%    120.0    29.773461       1.0\n",
       "50%    120.0    53.694931       1.0\n",
       "75%    120.0   100.279676       1.0\n",
       "max    120.0  1159.546713       1.0"
      ]
     },
     "execution_count": 11,
     "metadata": {},
     "output_type": "execute_result"
    }
   ],
   "source": [
    "df[df.observed == 1].describe()"
   ]
  },
  {
   "cell_type": "code",
   "execution_count": 152,
   "id": "db7e7932-f430-4c55-b862-2d1cf7465872",
   "metadata": {},
   "outputs": [
    {
     "data": {
      "text/plain": [
       "Text(0.5, 0, 'timescale (days)')"
      ]
     },
     "execution_count": 152,
     "metadata": {},
     "output_type": "execute_result"
    },
    {
     "data": {
      "image/png": "[encoded data removed]",
      "text/plain": [
       "<Figure size 432x288 with 1 Axes>"
      ]
     },
     "metadata": {
      "needs_background": "light"
     },
     "output_type": "display_data"
    }
   ],
   "source": [
    "kmf = KaplanMeierFitter()\n",
    "kmf.fit(df.duration, event_observed=df.observed)\n",
    "\n",
    "kmf.plot_survival_function(label=f\"({(1-kmf.survival_function_.KM_estimate.iloc[-1]):.2f} @120)\")\n",
    "plt.title(f\"Survival function of players reaching level {level}\");\n",
    "plt.ylabel(f\"probablity not level {level}\")\n",
    "plt.xlabel(\"timescale (days)\")"
   ]
  },
  {
   "cell_type": "code",
   "execution_count": 147,
   "id": "3029c718-8e17-49d4-be2f-ae78dba3b6c7",
   "metadata": {},
   "outputs": [
    {
     "data": {
      "text/plain": [
       "29.43960648123175"
      ]
     },
     "execution_count": 147,
     "metadata": {},
     "output_type": "execute_result"
    }
   ],
   "source": [
    "kmf.percentile(0.9)"
   ]
  },
  {
   "cell_type": "code",
   "execution_count": 35,
   "id": "ca6af58a-4dbc-426f-a271-abb5b52d2b55",
   "metadata": {},
   "outputs": [
    {
     "data": {
      "text/html": [
       "<div>\n",
       "<style scoped>\n",
       "    .dataframe tbody tr th:only-of-type {\n",
       "        vertical-align: middle;\n",
       "    }\n",
       "\n",
       "    .dataframe tbody tr th {\n",
       "        vertical-align: top;\n",
       "    }\n",
       "\n",
       "    .dataframe thead th {\n",
       "        text-align: right;\n",
       "    }\n",
       "</style>\n",
       "<table border=\"1\" class=\"dataframe\">\n",
       "  <thead>\n",
       "    <tr style=\"text-align: right;\">\n",
       "      <th></th>\n",
       "      <th>KM_estimate</th>\n",
       "    </tr>\n",
       "    <tr>\n",
       "      <th>timeline</th>\n",
       "      <th></th>\n",
       "    </tr>\n",
       "  </thead>\n",
       "  <tbody>\n",
       "    <tr>\n",
       "      <th>0.000000</th>\n",
       "      <td>0.000000</td>\n",
       "    </tr>\n",
       "    <tr>\n",
       "      <th>1.586586</th>\n",
       "      <td>0.000000</td>\n",
       "    </tr>\n",
       "    <tr>\n",
       "      <th>1.898692</th>\n",
       "      <td>0.000000</td>\n",
       "    </tr>\n",
       "    <tr>\n",
       "      <th>2.748160</th>\n",
       "      <td>0.000000</td>\n",
       "    </tr>\n",
       "    <tr>\n",
       "      <th>3.511088</th>\n",
       "      <td>0.000000</td>\n",
       "    </tr>\n",
       "    <tr>\n",
       "      <th>...</th>\n",
       "      <td>...</td>\n",
       "    </tr>\n",
       "    <tr>\n",
       "      <th>2015.242535</th>\n",
       "      <td>0.392984</td>\n",
       "    </tr>\n",
       "    <tr>\n",
       "      <th>2018.220035</th>\n",
       "      <td>0.392984</td>\n",
       "    </tr>\n",
       "    <tr>\n",
       "      <th>2019.826308</th>\n",
       "      <td>0.392984</td>\n",
       "    </tr>\n",
       "    <tr>\n",
       "      <th>2027.920590</th>\n",
       "      <td>0.392984</td>\n",
       "    </tr>\n",
       "    <tr>\n",
       "      <th>2032.647720</th>\n",
       "      <td>0.392984</td>\n",
       "    </tr>\n",
       "  </tbody>\n",
       "</table>\n",
       "<p>991 rows × 1 columns</p>\n",
       "</div>"
      ],
      "text/plain": [
       "             KM_estimate\n",
       "timeline                \n",
       "0.000000        0.000000\n",
       "1.586586        0.000000\n",
       "1.898692        0.000000\n",
       "2.748160        0.000000\n",
       "3.511088        0.000000\n",
       "...                  ...\n",
       "2015.242535     0.392984\n",
       "2018.220035     0.392984\n",
       "2019.826308     0.392984\n",
       "2027.920590     0.392984\n",
       "2032.647720     0.392984\n",
       "\n",
       "[991 rows x 1 columns]"
      ]
     },
     "execution_count": 35,
     "metadata": {},
     "output_type": "execute_result"
    }
   ],
   "source": [
    "1 - kmf.survival_function_"
   ]
  },
  {
   "cell_type": "code",
   "execution_count": 22,
   "id": "0e8a799b-82cf-4fa2-877f-81058db86f3a",
   "metadata": {},
   "outputs": [
    {
     "data": {
      "text/plain": [
       "Text(0.5, 0, 'timescale (days)')"
      ]
     },
     "execution_count": 22,
     "metadata": {},
     "output_type": "execute_result"
    },
    {
     "data": {
      "image/png": "[encoded data removed]",
      "text/plain": [
       "<Figure size 432x288 with 1 Axes>"
      ]
     },
     "metadata": {
      "needs_background": "light"
     },
     "output_type": "display_data"
    }
   ],
   "source": [
    "kmf = KaplanMeierFitter()\n",
    "kmf.fit(df.duration, event_observed=df.observed)\n",
    "\n",
    "kmf.plot_survival_function(iloc=slice(0,120), legend=False)\n",
    "plt.title(f\"Survival function of players reaching level {level}\");\n",
    "plt.ylabel(f\"probablity not level {level}\")\n",
    "plt.xlabel(\"timescale (days)\")"
   ]
  },
  {
   "cell_type": "code",
   "execution_count": 28,
   "id": "cf28dfd1-3e07-48b4-8099-4a0eee1d3e12",
   "metadata": {},
   "outputs": [
    {
     "data": {
      "text/plain": [
       "0.3484848484848485"
      ]
     },
     "execution_count": 28,
     "metadata": {},
     "output_type": "execute_result"
    }
   ],
   "source": [
    "(df[df.observed == 1].count() / df.count()).observed"
   ]
  },
  {
   "cell_type": "markdown",
   "id": "5ec7e34a-79d4-4c23-b2b2-3c5c5590d8cd",
   "metadata": {},
   "source": [
    "# by class"
   ]
  },
  {
   "cell_type": "code",
   "execution_count": 47,
   "id": "71e191b0-a22d-4a1e-bef5-bc132a836017",
   "metadata": {},
   "outputs": [
    {
     "data": {
      "text/html": [
       "<div>\n",
       "<style scoped>\n",
       "    .dataframe tbody tr th:only-of-type {\n",
       "        vertical-align: middle;\n",
       "    }\n",
       "\n",
       "    .dataframe tbody tr th {\n",
       "        vertical-align: top;\n",
       "    }\n",
       "\n",
       "    .dataframe thead th {\n",
       "        text-align: right;\n",
       "    }\n",
       "</style>\n",
       "<table border=\"1\" class=\"dataframe\">\n",
       "  <thead>\n",
       "    <tr style=\"text-align: right;\">\n",
       "      <th></th>\n",
       "      <th>index</th>\n",
       "      <th>timestamp</th>\n",
       "      <th>category</th>\n",
       "      <th>rank</th>\n",
       "      <th>name</th>\n",
       "      <th>job</th>\n",
       "      <th>specialization</th>\n",
       "      <th>mastery</th>\n",
       "      <th>level</th>\n",
       "    </tr>\n",
       "  </thead>\n",
       "  <tbody>\n",
       "    <tr>\n",
       "      <th>0</th>\n",
       "      <td>0</td>\n",
       "      <td>2021-05-09T07:29:05.999614</td>\n",
       "      <td>all</td>\n",
       "      <td>1</td>\n",
       "      <td>Unlucky</td>\n",
       "      <td>magician</td>\n",
       "      <td>cleric</td>\n",
       "      <td>bishop</td>\n",
       "      <td>200</td>\n",
       "    </tr>\n",
       "    <tr>\n",
       "      <th>1</th>\n",
       "      <td>1</td>\n",
       "      <td>2021-05-09T07:29:05.999614</td>\n",
       "      <td>all</td>\n",
       "      <td>2</td>\n",
       "      <td>Babo</td>\n",
       "      <td>thief</td>\n",
       "      <td>assassin</td>\n",
       "      <td>night lord</td>\n",
       "      <td>200</td>\n",
       "    </tr>\n",
       "    <tr>\n",
       "      <th>2</th>\n",
       "      <td>2</td>\n",
       "      <td>2021-05-09T07:29:05.999614</td>\n",
       "      <td>all</td>\n",
       "      <td>3</td>\n",
       "      <td>Nude</td>\n",
       "      <td>thief</td>\n",
       "      <td>assassin</td>\n",
       "      <td>night lord</td>\n",
       "      <td>200</td>\n",
       "    </tr>\n",
       "    <tr>\n",
       "      <th>3</th>\n",
       "      <td>3</td>\n",
       "      <td>2021-05-09T07:29:05.999614</td>\n",
       "      <td>all</td>\n",
       "      <td>4</td>\n",
       "      <td>JayChou</td>\n",
       "      <td>magician</td>\n",
       "      <td>cleric</td>\n",
       "      <td>bishop</td>\n",
       "      <td>200</td>\n",
       "    </tr>\n",
       "    <tr>\n",
       "      <th>4</th>\n",
       "      <td>4</td>\n",
       "      <td>2021-05-09T07:29:05.999614</td>\n",
       "      <td>all</td>\n",
       "      <td>5</td>\n",
       "      <td>Zeretius</td>\n",
       "      <td>bowman</td>\n",
       "      <td>hunter</td>\n",
       "      <td>bowmaster</td>\n",
       "      <td>200</td>\n",
       "    </tr>\n",
       "  </tbody>\n",
       "</table>\n",
       "</div>"
      ],
      "text/plain": [
       "   index                   timestamp category  rank      name       job  \\\n",
       "0      0  2021-05-09T07:29:05.999614      all     1   Unlucky  magician   \n",
       "1      1  2021-05-09T07:29:05.999614      all     2      Babo     thief   \n",
       "2      2  2021-05-09T07:29:05.999614      all     3      Nude     thief   \n",
       "3      3  2021-05-09T07:29:05.999614      all     4   JayChou  magician   \n",
       "4      4  2021-05-09T07:29:05.999614      all     5  Zeretius    bowman   \n",
       "\n",
       "  specialization     mastery  level  \n",
       "0         cleric      bishop    200  \n",
       "1       assassin  night lord    200  \n",
       "2       assassin  night lord    200  \n",
       "3         cleric      bishop    200  \n",
       "4         hunter   bowmaster    200  "
      ]
     },
     "execution_count": 47,
     "metadata": {},
     "output_type": "execute_result"
    }
   ],
   "source": [
    "pd.read_sql_query(f\"\"\"select * from ranking limit 5\"\"\", conn)"
   ]
  },
  {
   "cell_type": "code",
   "execution_count": 165,
   "id": "d57ff987-b4a3-4505-8028-e8225b12b3fa",
   "metadata": {},
   "outputs": [
    {
     "data": {
      "text/html": [
       "<div>\n",
       "<style scoped>\n",
       "    .dataframe tbody tr th:only-of-type {\n",
       "        vertical-align: middle;\n",
       "    }\n",
       "\n",
       "    .dataframe tbody tr th {\n",
       "        vertical-align: top;\n",
       "    }\n",
       "\n",
       "    .dataframe thead th {\n",
       "        text-align: right;\n",
       "    }\n",
       "</style>\n",
       "<table border=\"1\" class=\"dataframe\">\n",
       "  <thead>\n",
       "    <tr style=\"text-align: right;\">\n",
       "      <th></th>\n",
       "      <th>name</th>\n",
       "      <th>level</th>\n",
       "      <th>job</th>\n",
       "    </tr>\n",
       "  </thead>\n",
       "  <tbody>\n",
       "    <tr>\n",
       "      <th>0</th>\n",
       "      <td>Unlucky</td>\n",
       "      <td>200</td>\n",
       "      <td>magician</td>\n",
       "    </tr>\n",
       "    <tr>\n",
       "      <th>1</th>\n",
       "      <td>Unlucky</td>\n",
       "      <td>199</td>\n",
       "      <td>magician</td>\n",
       "    </tr>\n",
       "    <tr>\n",
       "      <th>2</th>\n",
       "      <td>Unlucky</td>\n",
       "      <td>198</td>\n",
       "      <td>magician</td>\n",
       "    </tr>\n",
       "    <tr>\n",
       "      <th>3</th>\n",
       "      <td>Unlucky</td>\n",
       "      <td>197</td>\n",
       "      <td>magician</td>\n",
       "    </tr>\n",
       "    <tr>\n",
       "      <th>4</th>\n",
       "      <td>Unlucky</td>\n",
       "      <td>196</td>\n",
       "      <td>magician</td>\n",
       "    </tr>\n",
       "    <tr>\n",
       "      <th>...</th>\n",
       "      <td>...</td>\n",
       "      <td>...</td>\n",
       "      <td>...</td>\n",
       "    </tr>\n",
       "    <tr>\n",
       "      <th>78378</th>\n",
       "      <td>Lawkes</td>\n",
       "      <td>2</td>\n",
       "      <td>beginner</td>\n",
       "    </tr>\n",
       "    <tr>\n",
       "      <th>78379</th>\n",
       "      <td>Troyy</td>\n",
       "      <td>2</td>\n",
       "      <td>beginner</td>\n",
       "    </tr>\n",
       "    <tr>\n",
       "      <th>78380</th>\n",
       "      <td>Liridas</td>\n",
       "      <td>2</td>\n",
       "      <td>beginner</td>\n",
       "    </tr>\n",
       "    <tr>\n",
       "      <th>78381</th>\n",
       "      <td>Footwear</td>\n",
       "      <td>2</td>\n",
       "      <td>beginner</td>\n",
       "    </tr>\n",
       "    <tr>\n",
       "      <th>78382</th>\n",
       "      <td>PennyXx</td>\n",
       "      <td>2</td>\n",
       "      <td>beginner</td>\n",
       "    </tr>\n",
       "  </tbody>\n",
       "</table>\n",
       "<p>78383 rows × 3 columns</p>\n",
       "</div>"
      ],
      "text/plain": [
       "           name  level       job\n",
       "0       Unlucky    200  magician\n",
       "1       Unlucky    199  magician\n",
       "2       Unlucky    198  magician\n",
       "3       Unlucky    197  magician\n",
       "4       Unlucky    196  magician\n",
       "...         ...    ...       ...\n",
       "78378    Lawkes      2  beginner\n",
       "78379     Troyy      2  beginner\n",
       "78380   Liridas      2  beginner\n",
       "78381  Footwear      2  beginner\n",
       "78382   PennyXx      2  beginner\n",
       "\n",
       "[78383 rows x 3 columns]"
      ]
     },
     "execution_count": 165,
     "metadata": {},
     "output_type": "execute_result"
    }
   ],
   "source": [
    "df = pd.read_sql_query(f\"\"\"\n",
    "    with job as (\n",
    "        select name, job\n",
    "        from ranking\n",
    "    )\n",
    "    select\n",
    "        name,\n",
    "        level,\n",
    "        job\n",
    "    from levels\n",
    "    left join job\n",
    "    using (name)\n",
    "\"\"\", conn)\n",
    "df"
   ]
  },
  {
   "cell_type": "code",
   "execution_count": 166,
   "id": "11aea93d-b583-4aa1-8455-1b528f06beba",
   "metadata": {},
   "outputs": [
    {
     "data": {
      "text/plain": [
       "<AxesSubplot:xlabel='level'>"
      ]
     },
     "execution_count": 166,
     "metadata": {},
     "output_type": "execute_result"
    },
    {
     "data": {
      "image/png": "[encoded data removed]",
      "text/plain": [
       "<Figure size 432x288 with 1 Axes>"
      ]
     },
     "metadata": {
      "needs_background": "light"
     },
     "output_type": "display_data"
    }
   ],
   "source": [
    "df[df.job == \"magician\"].groupby(\"level\").count().reset_index().plot(\"level\", \"name\")"
   ]
  },
  {
   "cell_type": "code",
   "execution_count": 167,
   "id": "efa05355-4870-44e9-b42c-c33057a227c9",
   "metadata": {},
   "outputs": [
    {
     "data": {
      "text/plain": [
       "Text(0, 0.5, 'player count')"
      ]
     },
     "execution_count": 167,
     "metadata": {},
     "output_type": "execute_result"
    },
    {
     "data": {
      "image/png": "[encoded data removed]",
      "text/plain": [
       "<Figure size 432x288 with 1 Axes>"
      ]
     },
     "metadata": {
      "needs_background": "light"
     },
     "output_type": "display_data"
    }
   ],
   "source": [
    "jobs = df[df.job != \"beginner\"].job.unique()\n",
    "for job in jobs:\n",
    "    x = df[df.job == job].groupby(\"level\").count().reset_index().sort_values(\"level\")\n",
    "    plt.plot(x.level, x.name, label=job)\n",
    "plt.legend()\n",
    "plt.title(\"player count vs level by job\")\n",
    "plt.xlabel(\"level\")\n",
    "plt.ylabel(\"player count\")"
   ]
  },
  {
   "cell_type": "code",
   "execution_count": 168,
   "id": "c16d758e-6630-4f58-900f-74975450cf50",
   "metadata": {},
   "outputs": [
    {
     "data": {
      "text/plain": [
       "Text(0, 0.5, 'fraction of players in job')"
      ]
     },
     "execution_count": 168,
     "metadata": {},
     "output_type": "execute_result"
    },
    {
     "data": {
      "image/png": "[encoded data removed]",
      "text/plain": [
       "<Figure size 432x288 with 1 Axes>"
      ]
     },
     "metadata": {
      "needs_background": "light"
     },
     "output_type": "display_data"
    }
   ],
   "source": [
    "frac = []\n",
    "# jobs = df[df.job != \"beginner\"].job.unique()\n",
    "jobs = [\"magician\", \"bowman\", \"thief\", \"warrior\", \"pirate\"]\n",
    "for job in jobs:\n",
    "    x = df[df.job == job].groupby(\"level\").count().reset_index().sort_values(\"level\")\n",
    "    f120 = x[x.level == 120].name.values[0]/x.name.max()\n",
    "    plt.plot(x.level, x.name/x.name.max(), label=f\"{job} ({f120:.2f} @ 120)\")\n",
    "    frac.append(dict(job=job, n=x.name.max(), frac=f120))\n",
    "plt.legend()\n",
    "plt.title(\"fraction of players in job vs level\")\n",
    "plt.xlabel(\"level\")\n",
    "plt.ylabel(\"fraction of players in job\")"
   ]
  },
  {
   "cell_type": "code",
   "execution_count": 118,
   "id": "5c86f4f1-f2ff-4175-b541-1c7c847a41ee",
   "metadata": {},
   "outputs": [
    {
     "data": {
      "text/plain": [
       "[{'job': 'magician', 'n': 330, 'frac': 0.5212121212121212},\n",
       " {'job': 'thief', 'n': 162, 'frac': 0.38271604938271603},\n",
       " {'job': 'bowman', 'n': 75, 'frac': 0.4266666666666667},\n",
       " {'job': 'pirate', 'n': 67, 'frac': 0.23880597014925373},\n",
       " {'job': 'warrior', 'n': 198, 'frac': 0.31313131313131315}]"
      ]
     },
     "execution_count": 118,
     "metadata": {},
     "output_type": "execute_result"
    }
   ],
   "source": [
    "frac"
   ]
  },
  {
   "cell_type": "code",
   "execution_count": 120,
   "id": "ca93294b-6574-406f-94ea-aa2be7200131",
   "metadata": {},
   "outputs": [
    {
     "data": {
      "text/html": [
       "<div>\n",
       "<style scoped>\n",
       "    .dataframe tbody tr th:only-of-type {\n",
       "        vertical-align: middle;\n",
       "    }\n",
       "\n",
       "    .dataframe tbody tr th {\n",
       "        vertical-align: top;\n",
       "    }\n",
       "\n",
       "    .dataframe thead th {\n",
       "        text-align: right;\n",
       "    }\n",
       "</style>\n",
       "<table border=\"1\" class=\"dataframe\">\n",
       "  <thead>\n",
       "    <tr style=\"text-align: right;\">\n",
       "      <th></th>\n",
       "      <th>job</th>\n",
       "      <th>n</th>\n",
       "      <th>frac</th>\n",
       "    </tr>\n",
       "  </thead>\n",
       "  <tbody>\n",
       "    <tr>\n",
       "      <th>0</th>\n",
       "      <td>magician</td>\n",
       "      <td>330</td>\n",
       "      <td>0.521212</td>\n",
       "    </tr>\n",
       "    <tr>\n",
       "      <th>1</th>\n",
       "      <td>thief</td>\n",
       "      <td>162</td>\n",
       "      <td>0.382716</td>\n",
       "    </tr>\n",
       "    <tr>\n",
       "      <th>2</th>\n",
       "      <td>bowman</td>\n",
       "      <td>75</td>\n",
       "      <td>0.426667</td>\n",
       "    </tr>\n",
       "    <tr>\n",
       "      <th>3</th>\n",
       "      <td>pirate</td>\n",
       "      <td>67</td>\n",
       "      <td>0.238806</td>\n",
       "    </tr>\n",
       "    <tr>\n",
       "      <th>4</th>\n",
       "      <td>warrior</td>\n",
       "      <td>198</td>\n",
       "      <td>0.313131</td>\n",
       "    </tr>\n",
       "  </tbody>\n",
       "</table>\n",
       "</div>"
      ],
      "text/plain": [
       "        job    n      frac\n",
       "0  magician  330  0.521212\n",
       "1     thief  162  0.382716\n",
       "2    bowman   75  0.426667\n",
       "3    pirate   67  0.238806\n",
       "4   warrior  198  0.313131"
      ]
     },
     "execution_count": 120,
     "metadata": {},
     "output_type": "execute_result"
    }
   ],
   "source": [
    "pd.DataFrame(frac)"
   ]
  },
  {
   "cell_type": "code",
   "execution_count": 169,
   "id": "cc670632-1f9c-4d43-8cd1-83525d10ed51",
   "metadata": {},
   "outputs": [
    {
     "data": {
      "text/html": [
       "<div>\n",
       "<style scoped>\n",
       "    .dataframe tbody tr th:only-of-type {\n",
       "        vertical-align: middle;\n",
       "    }\n",
       "\n",
       "    .dataframe tbody tr th {\n",
       "        vertical-align: top;\n",
       "    }\n",
       "\n",
       "    .dataframe thead th {\n",
       "        text-align: right;\n",
       "    }\n",
       "</style>\n",
       "<table border=\"1\" class=\"dataframe\">\n",
       "  <thead>\n",
       "    <tr style=\"text-align: right;\">\n",
       "      <th></th>\n",
       "      <th>name</th>\n",
       "      <th>job</th>\n",
       "      <th>duration</th>\n",
       "      <th>observed</th>\n",
       "    </tr>\n",
       "  </thead>\n",
       "  <tbody>\n",
       "    <tr>\n",
       "      <th>0</th>\n",
       "      <td>Unlucky</td>\n",
       "      <td>magician</td>\n",
       "      <td>16.75</td>\n",
       "      <td>1</td>\n",
       "    </tr>\n",
       "    <tr>\n",
       "      <th>1</th>\n",
       "      <td>Nude</td>\n",
       "      <td>thief</td>\n",
       "      <td>76.99</td>\n",
       "      <td>1</td>\n",
       "    </tr>\n",
       "    <tr>\n",
       "      <th>2</th>\n",
       "      <td>JayChou</td>\n",
       "      <td>magician</td>\n",
       "      <td>8.00</td>\n",
       "      <td>1</td>\n",
       "    </tr>\n",
       "    <tr>\n",
       "      <th>3</th>\n",
       "      <td>NeoGenesis</td>\n",
       "      <td>magician</td>\n",
       "      <td>30.46</td>\n",
       "      <td>1</td>\n",
       "    </tr>\n",
       "    <tr>\n",
       "      <th>4</th>\n",
       "      <td>STRQNK</td>\n",
       "      <td>thief</td>\n",
       "      <td>83.17</td>\n",
       "      <td>1</td>\n",
       "    </tr>\n",
       "    <tr>\n",
       "      <th>...</th>\n",
       "      <td>...</td>\n",
       "      <td>...</td>\n",
       "      <td>...</td>\n",
       "      <td>...</td>\n",
       "    </tr>\n",
       "    <tr>\n",
       "      <th>847</th>\n",
       "      <td>Ewwffie</td>\n",
       "      <td>magician</td>\n",
       "      <td>485.51</td>\n",
       "      <td>0</td>\n",
       "    </tr>\n",
       "    <tr>\n",
       "      <th>848</th>\n",
       "      <td>INT3NSE</td>\n",
       "      <td>magician</td>\n",
       "      <td>1,442.48</td>\n",
       "      <td>0</td>\n",
       "    </tr>\n",
       "    <tr>\n",
       "      <th>849</th>\n",
       "      <td>Avengelyn</td>\n",
       "      <td>magician</td>\n",
       "      <td>1,263.46</td>\n",
       "      <td>0</td>\n",
       "    </tr>\n",
       "    <tr>\n",
       "      <th>850</th>\n",
       "      <td>Chabo</td>\n",
       "      <td>magician</td>\n",
       "      <td>645.77</td>\n",
       "      <td>0</td>\n",
       "    </tr>\n",
       "    <tr>\n",
       "      <th>851</th>\n",
       "      <td>deptrai</td>\n",
       "      <td>magician</td>\n",
       "      <td>500.69</td>\n",
       "      <td>0</td>\n",
       "    </tr>\n",
       "  </tbody>\n",
       "</table>\n",
       "<p>852 rows × 4 columns</p>\n",
       "</div>"
      ],
      "text/plain": [
       "           name       job  duration  observed\n",
       "0       Unlucky  magician     16.75         1\n",
       "1          Nude     thief     76.99         1\n",
       "2       JayChou  magician      8.00         1\n",
       "3    NeoGenesis  magician     30.46         1\n",
       "4        STRQNK     thief     83.17         1\n",
       "..          ...       ...       ...       ...\n",
       "847     Ewwffie  magician    485.51         0\n",
       "848     INT3NSE  magician  1,442.48         0\n",
       "849   Avengelyn  magician  1,263.46         0\n",
       "850       Chabo  magician    645.77         0\n",
       "851     deptrai  magician    500.69         0\n",
       "\n",
       "[852 rows x 4 columns]"
      ]
     },
     "execution_count": 169,
     "metadata": {},
     "output_type": "execute_result"
    }
   ],
   "source": [
    "level = 120\n",
    "df = pd.read_sql_query(f\"\"\"\n",
    "    with recent as (\n",
    "        select \n",
    "            name,\n",
    "            max(level) as level,\n",
    "            min(timestamp) as start_ts,\n",
    "            max(timestamp) as end_ts\n",
    "        from levels\n",
    "        where level <= {level}\n",
    "        group by 1\n",
    "    ),\n",
    "    job as (\n",
    "        select name, job\n",
    "        from ranking\n",
    "    )\n",
    "    select\n",
    "        name,\n",
    "        job,\n",
    "        iif(level < {level}, julianday(\"2021-05-09\"), julianday(end_ts)) -julianday(start_ts) as duration,\n",
    "        level = {level} as observed\n",
    "    from recent\n",
    "    left join job\n",
    "    using (name)\n",
    "    where job <> \"beginner\"\n",
    "\"\"\", conn)\n",
    "df"
   ]
  },
  {
   "cell_type": "code",
   "execution_count": 176,
   "id": "3b7f8cf9-5330-43c5-8e50-d2423e7c7830",
   "metadata": {},
   "outputs": [
    {
     "name": "stdout",
     "output_type": "stream",
     "text": [
      "magician: 23.8\n",
      "bowman: 33.5\n",
      "thief: 39.4\n",
      "warrior: 42.1\n",
      "pirate: 76.5\n"
     ]
    },
    {
     "data": {
      "text/plain": [
       "Text(0.5, 0, 'timescale (days)')"
      ]
     },
     "execution_count": 176,
     "metadata": {},
     "output_type": "execute_result"
    },
    {
     "data": {
      "image/png": "[encoded data removed]",
      "text/plain": [
       "<Figure size 432x288 with 1 Axes>"
      ]
     },
     "metadata": {
      "needs_background": "light"
     },
     "output_type": "display_data"
    }
   ],
   "source": [
    "surv = []\n",
    "kmf = KaplanMeierFitter()\n",
    "ax = plt.subplot(111)\n",
    "jobs = [\"magician\", \"bowman\", \"thief\", \"warrior\", \"pirate\"]\n",
    "for job in jobs:\n",
    "    x = df[df.job == job]\n",
    "    kmf.fit(x.duration, event_observed=x.observed)\n",
    "    f120 = 1-kmf.survival_function_.KM_estimate.iloc[-1]\n",
    "    kmf.plot_survival_function(ax=ax, label=f\"{job} ({f120:.2f} @120)\")\n",
    "    surv.append(dict(job=job, \n",
    "                     surv=f120,\n",
    "                     p90=kmf.percentile(0.90)))\n",
    "    print(f\"{job}: {kmf.percentile(0.9):.1f}\")\n",
    "\n",
    "plt.title(\"survival function of players at min. level\")\n",
    "plt.ylabel(\"probablity not leveled\")\n",
    "plt.xlabel(\"timescale (days)\")"
   ]
  },
  {
   "cell_type": "code",
   "execution_count": 177,
   "id": "110b272d-3666-45b7-a897-2668b2588991",
   "metadata": {},
   "outputs": [
    {
     "data": {
      "text/html": [
       "<div>\n",
       "<style scoped>\n",
       "    .dataframe tbody tr th:only-of-type {\n",
       "        vertical-align: middle;\n",
       "    }\n",
       "\n",
       "    .dataframe tbody tr th {\n",
       "        vertical-align: top;\n",
       "    }\n",
       "\n",
       "    .dataframe thead th {\n",
       "        text-align: right;\n",
       "    }\n",
       "</style>\n",
       "<table border=\"1\" class=\"dataframe\">\n",
       "  <thead>\n",
       "    <tr style=\"text-align: right;\">\n",
       "      <th></th>\n",
       "      <th>job</th>\n",
       "      <th>n</th>\n",
       "      <th>frac</th>\n",
       "      <th>surv</th>\n",
       "      <th>p90</th>\n",
       "    </tr>\n",
       "  </thead>\n",
       "  <tbody>\n",
       "    <tr>\n",
       "      <th>0</th>\n",
       "      <td>magician</td>\n",
       "      <td>330</td>\n",
       "      <td>0.52</td>\n",
       "      <td>0.55</td>\n",
       "      <td>23.80</td>\n",
       "    </tr>\n",
       "    <tr>\n",
       "      <th>1</th>\n",
       "      <td>bowman</td>\n",
       "      <td>75</td>\n",
       "      <td>0.43</td>\n",
       "      <td>0.46</td>\n",
       "      <td>33.47</td>\n",
       "    </tr>\n",
       "    <tr>\n",
       "      <th>2</th>\n",
       "      <td>thief</td>\n",
       "      <td>162</td>\n",
       "      <td>0.38</td>\n",
       "      <td>0.43</td>\n",
       "      <td>39.38</td>\n",
       "    </tr>\n",
       "    <tr>\n",
       "      <th>3</th>\n",
       "      <td>warrior</td>\n",
       "      <td>198</td>\n",
       "      <td>0.31</td>\n",
       "      <td>0.35</td>\n",
       "      <td>42.07</td>\n",
       "    </tr>\n",
       "    <tr>\n",
       "      <th>4</th>\n",
       "      <td>pirate</td>\n",
       "      <td>67</td>\n",
       "      <td>0.24</td>\n",
       "      <td>0.27</td>\n",
       "      <td>76.51</td>\n",
       "    </tr>\n",
       "  </tbody>\n",
       "</table>\n",
       "</div>"
      ],
      "text/plain": [
       "        job    n  frac  surv   p90\n",
       "0  magician  330  0.52  0.55 23.80\n",
       "1    bowman   75  0.43  0.46 33.47\n",
       "2     thief  162  0.38  0.43 39.38\n",
       "3   warrior  198  0.31  0.35 42.07\n",
       "4    pirate   67  0.24  0.27 76.51"
      ]
     },
     "execution_count": 177,
     "metadata": {},
     "output_type": "execute_result"
    }
   ],
   "source": [
    "pd.options.display.float_format = \"{:,.2f}\".format\n",
    "pd.DataFrame(frac).merge(pd.DataFrame(surv), on=\"job\").sort_values(\"frac\", ascending=False)"
   ]
  },
  {
   "cell_type": "code",
   "execution_count": 131,
   "id": "20f2896b-46ff-4ea2-baa0-4d975e7e3674",
   "metadata": {},
   "outputs": [
    {
     "name": "stdout",
     "output_type": "stream",
     "text": [
      "magician: 44.3\n",
      "warrior: 101.8\n"
     ]
    },
    {
     "data": {
      "text/plain": [
       "Text(0.5, 0, 'timescale (days)')"
      ]
     },
     "execution_count": 131,
     "metadata": {},
     "output_type": "execute_result"
    },
    {
     "data": {
      "image/png": "[encoded data removed]",
      "text/plain": [
       "<Figure size 432x288 with 1 Axes>"
      ]
     },
     "metadata": {
      "needs_background": "light"
     },
     "output_type": "display_data"
    }
   ],
   "source": [
    "kmf = KaplanMeierFitter()\n",
    "\n",
    "ax = plt.subplot(111)\n",
    "for job in [\"magician\", \"warrior\"]:\n",
    "    x = df[df.job == job]\n",
    "    kmf.fit(x.duration, event_observed=x.observed)\n",
    "    kmf.plot_survival_function(ax=ax, label=f\"{job} ({(1-kmf.survival_function_.KM_estimate.iloc[-1]):.2f}% @120)\")\n",
    "    print(f\"{job}: {kmf.percentile(0.75):.1f}\")\n",
    "\n",
    "plt.title(\"survival function of players at min. level\")\n",
    "plt.ylabel(\"probablity not leveled\")\n",
    "plt.xlabel(\"timescale (days)\")"
   ]
  },
  {
   "cell_type": "code",
   "execution_count": 132,
   "id": "c3dd0be4-6ce2-4bf7-a956-763f98ddebb1",
   "metadata": {},
   "outputs": [
    {
     "name": "stdout",
     "output_type": "stream",
     "text": [
      "magician: 44.3\n",
      "bowman: 81.0\n"
     ]
    },
    {
     "data": {
      "text/plain": [
       "Text(0.5, 0, 'timescale (days)')"
      ]
     },
     "execution_count": 132,
     "metadata": {},
     "output_type": "execute_result"
    },
    {
     "data": {
      "image/png": "[encoded data removed]",
      "text/plain": [
       "<Figure size 432x288 with 1 Axes>"
      ]
     },
     "metadata": {
      "needs_background": "light"
     },
     "output_type": "display_data"
    }
   ],
   "source": [
    "kmf = KaplanMeierFitter()\n",
    "\n",
    "ax = plt.subplot(111)\n",
    "for job in [\"magician\", \"bowman\"]:\n",
    "    x = df[df.job == job]\n",
    "    kmf.fit(x.duration, event_observed=x.observed)\n",
    "    kmf.plot_survival_function(ax=ax, label=f\"{job} ({(1-kmf.survival_function_.KM_estimate.iloc[-1]):.2f}% @120)\")\n",
    "    print(f\"{job}: {kmf.percentile(0.75):.1f}\")\n",
    "\n",
    "plt.title(\"survival function of players at min. level\")\n",
    "plt.ylabel(\"probablity not leveled\")\n",
    "plt.xlabel(\"timescale (days)\")"
   ]
  },
  {
   "cell_type": "code",
   "execution_count": 137,
   "id": "e5499e52-0742-495d-9cd3-566c0b1ad1be",
   "metadata": {},
   "outputs": [
    {
     "data": {
      "text/html": [
       "<div>\n",
       "<style scoped>\n",
       "    .dataframe tbody tr th:only-of-type {\n",
       "        vertical-align: middle;\n",
       "    }\n",
       "\n",
       "    .dataframe tbody tr th {\n",
       "        vertical-align: top;\n",
       "    }\n",
       "\n",
       "    .dataframe thead th {\n",
       "        text-align: right;\n",
       "    }\n",
       "</style>\n",
       "<table border=\"1\" class=\"dataframe\">\n",
       "  <tbody>\n",
       "    <tr>\n",
       "      <th>t_0</th>\n",
       "      <td>-1</td>\n",
       "    </tr>\n",
       "    <tr>\n",
       "      <th>null_distribution</th>\n",
       "      <td>chi squared</td>\n",
       "    </tr>\n",
       "    <tr>\n",
       "      <th>degrees_of_freedom</th>\n",
       "      <td>1</td>\n",
       "    </tr>\n",
       "    <tr>\n",
       "      <th>alpha</th>\n",
       "      <td>0.99</td>\n",
       "    </tr>\n",
       "    <tr>\n",
       "      <th>test_name</th>\n",
       "      <td>logrank_test</td>\n",
       "    </tr>\n",
       "  </tbody>\n",
       "</table>\n",
       "</div><table border=\"1\" class=\"dataframe\">\n",
       "  <thead>\n",
       "    <tr style=\"text-align: right;\">\n",
       "      <th></th>\n",
       "      <th>test_statistic</th>\n",
       "      <th>p</th>\n",
       "      <th>-log2(p)</th>\n",
       "    </tr>\n",
       "  </thead>\n",
       "  <tbody>\n",
       "    <tr>\n",
       "      <th>0</th>\n",
       "      <td>3.84</td>\n",
       "      <td>0.05</td>\n",
       "      <td>4.32</td>\n",
       "    </tr>\n",
       "  </tbody>\n",
       "</table>"
      ],
      "text/latex": [
       "\\begin{tabular}{lrrr}\n",
       "\\toprule\n",
       "{} &  test\\_statistic &    p &  -log2(p) \\\\\n",
       "\\midrule\n",
       "0 &            3.84 & 0.05 &      4.32 \\\\\n",
       "\\bottomrule\n",
       "\\end{tabular}\n"
      ],
      "text/plain": [
       "<lifelines.StatisticalResult: logrank_test>\n",
       "               t_0 = -1\n",
       " null_distribution = chi squared\n",
       "degrees_of_freedom = 1\n",
       "             alpha = 0.99\n",
       "         test_name = logrank_test\n",
       "\n",
       "---\n",
       " test_statistic    p  -log2(p)\n",
       "           3.84 0.05      4.32"
      ]
     },
     "metadata": {},
     "output_type": "display_data"
    }
   ],
   "source": [
    "from lifelines.statistics import logrank_test\n",
    "\n",
    "mag = df[df.job == \"magician\"]\n",
    "bow = df[df.job == \"bowman\"]\n",
    "\n",
    "results = logrank_test(mag.duration, bow.duration, mag.observed, bow.observed, alpha=.99)\n",
    "results.print_summary()"
   ]
  },
  {
   "cell_type": "code",
   "execution_count": 134,
   "id": "5bd0fe06-efdd-494e-bf4a-30ef57d0289e",
   "metadata": {},
   "outputs": [
    {
     "data": {
      "text/html": [
       "<div>\n",
       "<style scoped>\n",
       "    .dataframe tbody tr th:only-of-type {\n",
       "        vertical-align: middle;\n",
       "    }\n",
       "\n",
       "    .dataframe tbody tr th {\n",
       "        vertical-align: top;\n",
       "    }\n",
       "\n",
       "    .dataframe thead th {\n",
       "        text-align: right;\n",
       "    }\n",
       "</style>\n",
       "<table border=\"1\" class=\"dataframe\">\n",
       "  <tbody>\n",
       "    <tr>\n",
       "      <th>t_0</th>\n",
       "      <td>-1</td>\n",
       "    </tr>\n",
       "    <tr>\n",
       "      <th>null_distribution</th>\n",
       "      <td>chi squared</td>\n",
       "    </tr>\n",
       "    <tr>\n",
       "      <th>degrees_of_freedom</th>\n",
       "      <td>1</td>\n",
       "    </tr>\n",
       "    <tr>\n",
       "      <th>alpha</th>\n",
       "      <td>0.99</td>\n",
       "    </tr>\n",
       "    <tr>\n",
       "      <th>test_name</th>\n",
       "      <td>logrank_test</td>\n",
       "    </tr>\n",
       "  </tbody>\n",
       "</table>\n",
       "</div><table border=\"1\" class=\"dataframe\">\n",
       "  <thead>\n",
       "    <tr style=\"text-align: right;\">\n",
       "      <th></th>\n",
       "      <th>test_statistic</th>\n",
       "      <th>p</th>\n",
       "      <th>-log2(p)</th>\n",
       "    </tr>\n",
       "  </thead>\n",
       "  <tbody>\n",
       "    <tr>\n",
       "      <th>0</th>\n",
       "      <td>22.44</td>\n",
       "      <td>&lt;0.005</td>\n",
       "      <td>18.81</td>\n",
       "    </tr>\n",
       "  </tbody>\n",
       "</table>"
      ],
      "text/latex": [
       "\\begin{tabular}{lrrr}\n",
       "\\toprule\n",
       "{} &  test\\_statistic &    p &  -log2(p) \\\\\n",
       "\\midrule\n",
       "0 &           22.44 & 0.00 &     18.81 \\\\\n",
       "\\bottomrule\n",
       "\\end{tabular}\n"
      ],
      "text/plain": [
       "<lifelines.StatisticalResult: logrank_test>\n",
       "               t_0 = -1\n",
       " null_distribution = chi squared\n",
       "degrees_of_freedom = 1\n",
       "             alpha = 0.99\n",
       "         test_name = logrank_test\n",
       "\n",
       "---\n",
       " test_statistic      p  -log2(p)\n",
       "          22.44 <0.005     18.81"
      ]
     },
     "metadata": {},
     "output_type": "display_data"
    }
   ],
   "source": [
    "mag = df[df.job == \"magician\"]\n",
    "warrior = df[df.job == \"warrior\"]\n",
    "\n",
    "results = logrank_test(mag.duration, warrior.duration, mag.observed, warrior.observed, alpha=.99)\n",
    "results.print_summary()"
   ]
  },
  {
   "cell_type": "code",
   "execution_count": 135,
   "id": "a3790460-c110-4d3e-828b-d67ac9616b69",
   "metadata": {},
   "outputs": [
    {
     "data": {
      "text/html": [
       "<div>\n",
       "<style scoped>\n",
       "    .dataframe tbody tr th:only-of-type {\n",
       "        vertical-align: middle;\n",
       "    }\n",
       "\n",
       "    .dataframe tbody tr th {\n",
       "        vertical-align: top;\n",
       "    }\n",
       "\n",
       "    .dataframe thead th {\n",
       "        text-align: right;\n",
       "    }\n",
       "</style>\n",
       "<table border=\"1\" class=\"dataframe\">\n",
       "  <tbody>\n",
       "    <tr>\n",
       "      <th>t_0</th>\n",
       "      <td>-1</td>\n",
       "    </tr>\n",
       "    <tr>\n",
       "      <th>null_distribution</th>\n",
       "      <td>chi squared</td>\n",
       "    </tr>\n",
       "    <tr>\n",
       "      <th>degrees_of_freedom</th>\n",
       "      <td>1</td>\n",
       "    </tr>\n",
       "    <tr>\n",
       "      <th>alpha</th>\n",
       "      <td>0.99</td>\n",
       "    </tr>\n",
       "    <tr>\n",
       "      <th>test_name</th>\n",
       "      <td>logrank_test</td>\n",
       "    </tr>\n",
       "  </tbody>\n",
       "</table>\n",
       "</div><table border=\"1\" class=\"dataframe\">\n",
       "  <thead>\n",
       "    <tr style=\"text-align: right;\">\n",
       "      <th></th>\n",
       "      <th>test_statistic</th>\n",
       "      <th>p</th>\n",
       "      <th>-log2(p)</th>\n",
       "    </tr>\n",
       "  </thead>\n",
       "  <tbody>\n",
       "    <tr>\n",
       "      <th>0</th>\n",
       "      <td>0.00</td>\n",
       "      <td>1.00</td>\n",
       "      <td>-0.00</td>\n",
       "    </tr>\n",
       "  </tbody>\n",
       "</table>"
      ],
      "text/latex": [
       "\\begin{tabular}{lrrr}\n",
       "\\toprule\n",
       "{} &  test\\_statistic &    p &  -log2(p) \\\\\n",
       "\\midrule\n",
       "0 &            0.00 & 1.00 &     -0.00 \\\\\n",
       "\\bottomrule\n",
       "\\end{tabular}\n"
      ],
      "text/plain": [
       "<lifelines.StatisticalResult: logrank_test>\n",
       "               t_0 = -1\n",
       " null_distribution = chi squared\n",
       "degrees_of_freedom = 1\n",
       "             alpha = 0.99\n",
       "         test_name = logrank_test\n",
       "\n",
       "---\n",
       " test_statistic    p  -log2(p)\n",
       "           0.00 1.00     -0.00"
      ]
     },
     "metadata": {},
     "output_type": "display_data"
    }
   ],
   "source": [
    "mag = df[df.job == \"magician\"]\n",
    "results = logrank_test(mag.duration, mag.duration, mag.observed, mag.observed, alpha=.99)\n",
    "results.print_summary()"
   ]
  }
 ],
 "metadata": {
  "kernelspec": {
   "display_name": "Python 3",
   "language": "python",
   "name": "python3"
  },
  "language_info": {
   "codemirror_mode": {
    "name": "ipython",
    "version": 3
   },
   "file_extension": ".py",
   "mimetype": "text/x-python",
   "name": "python",
   "nbconvert_exporter": "python",
   "pygments_lexer": "ipython3",
   "version": "3.8.9"
  }
 },
 "nbformat": 4,
 "nbformat_minor": 5
}
