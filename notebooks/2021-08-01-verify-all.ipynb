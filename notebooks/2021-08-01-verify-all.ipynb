{
 "cells": [
  {
   "cell_type": "code",
   "execution_count": 23,
   "id": "aa5fc735-cfaa-4bb7-be1a-d7ee91eb6d5d",
   "metadata": {},
   "outputs": [
    {
     "data": {
      "text/plain": [
       "[{'timestamp': '2021-08-01T00:14:32.481263',\n",
       "  'category': 'all',\n",
       "  'rank': 1,\n",
       "  'name': 'Unlucky',\n",
       "  'guild': 'Project',\n",
       "  'job': 'magician',\n",
       "  'specialization': 'cleric',\n",
       "  'mastery': 'bishop',\n",
       "  'fame': 420,\n",
       "  'level': 200},\n",
       " {'timestamp': '2021-08-01T00:14:32.483250',\n",
       "  'category': 'all',\n",
       "  'rank': 2,\n",
       "  'name': 'Babo',\n",
       "  'guild': 'Noir',\n",
       "  'job': 'thief',\n",
       "  'specialization': 'assassin',\n",
       "  'mastery': 'night lord',\n",
       "  'fame': 2714,\n",
       "  'level': 200},\n",
       " {'timestamp': '2021-08-01T00:14:32.484250',\n",
       "  'category': 'all',\n",
       "  'rank': 3,\n",
       "  'name': 'Nude',\n",
       "  'guild': 'Noir',\n",
       "  'job': 'thief',\n",
       "  'specialization': 'assassin',\n",
       "  'mastery': 'night lord',\n",
       "  'fame': 784,\n",
       "  'level': 200}]"
      ]
     },
     "execution_count": 23,
     "metadata": {},
     "output_type": "execute_result"
    }
   ],
   "source": [
    "import json\n",
    "from pathlib import Path\n",
    "\n",
    "data = json.loads(Path(\"../data/all_ranking_20210731.json\").read_text())\n",
    "data[:3]"
   ]
  },
  {
   "cell_type": "code",
   "execution_count": 24,
   "id": "5ca7af5d-87ec-48a4-834f-6121b7a30b16",
   "metadata": {},
   "outputs": [
    {
     "data": {
      "text/plain": [
       "[1, 2, 3]"
      ]
     },
     "execution_count": 24,
     "metadata": {},
     "output_type": "execute_result"
    }
   ],
   "source": [
    "ranks = [x[\"rank\"] for x in data]\n",
    "ranks[:3]"
   ]
  },
  {
   "cell_type": "code",
   "execution_count": 25,
   "id": "95099784-9fcd-4437-a9d3-c4f5229170ad",
   "metadata": {},
   "outputs": [
    {
     "data": {
      "text/plain": [
       "[201643, 201644, 201645]"
      ]
     },
     "execution_count": 25,
     "metadata": {},
     "output_type": "execute_result"
    }
   ],
   "source": [
    "sorted(ranks)[-3:]"
   ]
  },
  {
   "cell_type": "code",
   "execution_count": 26,
   "id": "2d07bb56-0984-434c-9b78-3532b36bef27",
   "metadata": {},
   "outputs": [
    {
     "data": {
      "text/plain": [
       "[]"
      ]
     },
     "execution_count": 26,
     "metadata": {},
     "output_type": "execute_result"
    }
   ],
   "source": [
    "import math\n",
    "missing = set(range(201645+1)) - set(ranks) - set([0])\n",
    "sorted([math.ceil(x / 5) for x in missing])\n",
    "sorted(set([math.ceil(x / 5) for x in missing]))"
   ]
  }
 ],
 "metadata": {
  "kernelspec": {
   "display_name": "Python 3",
   "language": "python",
   "name": "python3"
  },
  "language_info": {
   "codemirror_mode": {
    "name": "ipython",
    "version": 3
   },
   "file_extension": ".py",
   "mimetype": "text/x-python",
   "name": "python",
   "nbconvert_exporter": "python",
   "pygments_lexer": "ipython3",
   "version": "3.8.9"
  }
 },
 "nbformat": 4,
 "nbformat_minor": 5
}
